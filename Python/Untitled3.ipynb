{
 "cells": [
  {
   "cell_type": "code",
   "execution_count": 1,
   "id": "4d1478e6",
   "metadata": {},
   "outputs": [
    {
     "ename": "SyntaxError",
     "evalue": "invalid syntax (1713615100.py, line 2)",
     "output_type": "error",
     "traceback": [
      "\u001b[1;36m  Input \u001b[1;32mIn [1]\u001b[1;36m\u001b[0m\n\u001b[1;33m    import\u001b[0m\n\u001b[1;37m          ^\u001b[0m\n\u001b[1;31mSyntaxError\u001b[0m\u001b[1;31m:\u001b[0m invalid syntax\n"
     ]
    }
   ],
   "source": [
    "#Q1.Write a python GUI program to import tkinter package and create a window and set its title.\n",
    "import\n",
    "tkinter\n",
    "as\n",
    "tk\n",
    "parent\n",
    "=\n",
    "tk\n",
    ".\n",
    "Tk\n",
    "()\n",
    "parent\n",
    ".\n",
    "title\n",
    "(\n",
    "\"Harshil\"\n",
    ")\n",
    "my_label\n",
    "=\n",
    "tk\n",
    ".\n",
    "Label\n",
    "(\n",
    "parent\n",
    ",\n",
    "text\n",
    "=\n",
    "\"Label Widget\"\n",
    ")\n",
    "my_label\n",
    ".\n",
    "grid\n",
    "(\n",
    "column\n",
    "=\n",
    "0\n",
    ",\n",
    "row\n",
    "=\n",
    "0\n",
    ")\n",
    "parent\n",
    ".\n",
    "mainloop\n",
    "()\n",
    "\n"
   ]
  },
  {
   "cell_type": "code",
   "execution_count": null,
   "id": "a824bee3",
   "metadata": {},
   "outputs": [],
   "source": []
  }
 ],
 "metadata": {
  "kernelspec": {
   "display_name": "Python 3 (ipykernel)",
   "language": "python",
   "name": "python3"
  },
  "language_info": {
   "codemirror_mode": {
    "name": "ipython",
    "version": 3
   },
   "file_extension": ".py",
   "mimetype": "text/x-python",
   "name": "python",
   "nbconvert_exporter": "python",
   "pygments_lexer": "ipython3",
   "version": "3.10.2"
  }
 },
 "nbformat": 4,
 "nbformat_minor": 5
}
