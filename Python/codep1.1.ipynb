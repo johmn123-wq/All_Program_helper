{
 "cells": [
  {
   "cell_type": "code",
   "execution_count": 1,
   "metadata": {},
   "outputs": [],
   "source": [
    "import numpy as np\n",
    "import pandas as p\n",
    "import matplotlib.pyplot as plt\n",
    "from scipy.spatial import distance\n",
    "from sklearn.metrics.pairwise import euclidean_distances\n",
    "from pandas import read_csv\n",
    "from sklearn.model_selection import train_test_split\n",
    "from sklearn import preprocessing\n",
    "from sklearn.preprocessing import StandardScaler"
   ]
  },
  {
   "cell_type": "code",
   "execution_count": 2,
   "metadata": {},
   "outputs": [],
   "source": [
    "v1 = np.array([1,6,7,9])\n",
    "v2 = np.array([1,0,6,9])"
   ]
  },
  {
   "cell_type": "code",
   "execution_count": 3,
   "metadata": {},
   "outputs": [
    {
     "data": {
      "text/plain": [
       "2"
      ]
     },
     "execution_count": 3,
     "metadata": {},
     "output_type": "execute_result"
    }
   ],
   "source": [
    "np.sum(v1==v2)"
   ]
  },
  {
   "cell_type": "code",
   "execution_count": 4,
   "metadata": {},
   "outputs": [],
   "source": [
    "M = np.random.randint(10,50,(10,3))"
   ]
  },
  {
   "cell_type": "code",
   "execution_count": 5,
   "metadata": {},
   "outputs": [
    {
     "data": {
      "text/plain": [
       "(10, 3)"
      ]
     },
     "execution_count": 5,
     "metadata": {},
     "output_type": "execute_result"
    }
   ],
   "source": [
    "M.shape"
   ]
  },
  {
   "cell_type": "code",
   "execution_count": 6,
   "metadata": {},
   "outputs": [
    {
     "data": {
      "text/plain": [
       "10"
      ]
     },
     "execution_count": 6,
     "metadata": {},
     "output_type": "execute_result"
    }
   ],
   "source": [
    "M.shape[0]"
   ]
  },
  {
   "cell_type": "code",
   "execution_count": 7,
   "metadata": {},
   "outputs": [
    {
     "data": {
      "text/plain": [
       "3"
      ]
     },
     "execution_count": 7,
     "metadata": {},
     "output_type": "execute_result"
    }
   ],
   "source": [
    "M.shape[1]"
   ]
  },
  {
   "cell_type": "code",
   "execution_count": 8,
   "metadata": {},
   "outputs": [
    {
     "name": "stdout",
     "output_type": "stream",
     "text": [
      "[[22 49  0]\n",
      " [36 13  0]\n",
      " [32 46  0]\n",
      " [34 28  0]\n",
      " [11 33  1]\n",
      " [42 14  1]\n",
      " [36 26  0]\n",
      " [46 13  0]\n",
      " [26 11  0]\n",
      " [28 18  0]]\n"
     ]
    }
   ],
   "source": [
    "for i in M:\n",
    "    if((i[0]+i[1])%4==0):\n",
    "        i[2]=1\n",
    "    else:\n",
    "        i[2]=0\n",
    "print(M)"
   ]
  },
  {
   "cell_type": "code",
   "execution_count": 9,
   "metadata": {},
   "outputs": [
    {
     "name": "stdout",
     "output_type": "stream",
     "text": [
      "   X1  X2  Y\n",
      "0  22  49  0\n",
      "1  36  13  0\n",
      "2  32  46  0\n",
      "3  34  28  0\n",
      "4  11  33  1\n",
      "5  42  14  1\n",
      "6  36  26  0\n",
      "7  46  13  0\n",
      "8  26  11  0\n",
      "9  28  18  0\n"
     ]
    }
   ],
   "source": [
    "coulm = ['X1','X2','Y']\n",
    "dataframe = p.DataFrame(M,columns=coulm)\n",
    "print(dataframe)"
   ]
  },
  {
   "cell_type": "code",
   "execution_count": 10,
   "metadata": {},
   "outputs": [
    {
     "data": {
      "image/png": "[encoded data removed]",
      "text/plain": [
       "<Figure size 432x288 with 1 Axes>"
      ]
     },
     "metadata": {
      "needs_background": "light"
     },
     "output_type": "display_data"
    }
   ],
   "source": [
    "col = dataframe.Y.map({0:'b',1:'r'})\n",
    "dataframe.plot.scatter(x='X1',y='X2',c=col)\n",
    "plt.show()"
   ]
  },
  {
   "cell_type": "code",
   "execution_count": 11,
   "metadata": {},
   "outputs": [],
   "source": [
    "#se = []\n",
    "#for i in M:\n",
    "#    se.append(np.square(i[0]-i[1]))\n",
    "se = np.square(dataframe['X1']-dataframe['X2'])"
   ]
  },
  {
   "cell_type": "code",
   "execution_count": 12,
   "metadata": {},
   "outputs": [
    {
     "name": "stdout",
     "output_type": "stream",
     "text": [
      "0     729\n",
      "1     529\n",
      "2     196\n",
      "3      36\n",
      "4     484\n",
      "5     784\n",
      "6     100\n",
      "7    1089\n",
      "8     225\n",
      "9     100\n",
      "dtype: int32\n"
     ]
    }
   ],
   "source": [
    "print(se)"
   ]
  },
  {
   "cell_type": "code",
   "execution_count": 13,
   "metadata": {},
   "outputs": [
    {
     "data": {
      "text/plain": [
       "4272"
      ]
     },
     "execution_count": 13,
     "metadata": {},
     "output_type": "execute_result"
    }
   ],
   "source": [
    "np.sum(se)"
   ]
  },
  {
   "cell_type": "code",
   "execution_count": 14,
   "metadata": {},
   "outputs": [],
   "source": [
    "p1 = dataframe['X1']\n",
    "p2 = dataframe['X2']"
   ]
  },
  {
   "cell_type": "code",
   "execution_count": 15,
   "metadata": {},
   "outputs": [
    {
     "data": {
      "text/plain": [
       "65.36053855347276"
      ]
     },
     "execution_count": 15,
     "metadata": {},
     "output_type": "execute_result"
    }
   ],
   "source": [
    "np.linalg.norm(p1-p2)"
   ]
  },
  {
   "cell_type": "code",
   "execution_count": 16,
   "metadata": {},
   "outputs": [
    {
     "name": "stdout",
     "output_type": "stream",
     "text": [
      "[[10 10]]\n"
     ]
    }
   ],
   "source": [
    "V = np.random.randint(10,20,(1,2))\n",
    "print(V)"
   ]
  },
  {
   "cell_type": "code",
   "execution_count": 17,
   "metadata": {},
   "outputs": [
    {
     "name": "stdout",
     "output_type": "stream",
     "text": [
      "[40.80441152620633, 26.1725046566048, 42.190046219457976, 30.0, 23.021728866442675, 32.2490309931942, 30.528675044947494, 36.124783736376884, 16.0312195418814, 19.697715603592208]\n"
     ]
    }
   ],
   "source": [
    "A = []\n",
    "for i in M:\n",
    "    d = np.array([i[0],i[1]])\n",
    "    A.append(np.linalg.norm(V-d))\n",
    "print(A)"
   ]
  },
  {
   "cell_type": "code",
   "execution_count": 18,
   "metadata": {},
   "outputs": [
    {
     "name": "stdout",
     "output_type": "stream",
     "text": [
      "[[16 13]\n",
      " [11 17]\n",
      " [18 12]\n",
      " [17 16]\n",
      " [12 15]\n",
      " [18 15]\n",
      " [14 18]\n",
      " [11 13]\n",
      " [18 10]\n",
      " [18 12]]\n"
     ]
    }
   ],
   "source": [
    "A = np.random.randint(10,20,(10,2))\n",
    "print(A)"
   ]
  },
  {
   "cell_type": "code",
   "execution_count": 19,
   "metadata": {},
   "outputs": [
    {
     "name": "stdout",
     "output_type": "stream",
     "text": [
      "[[16 13 13]\n",
      " [11 17 10]\n",
      " [18 12 12]\n",
      " [17 16 11]\n",
      " [12 15 11]\n",
      " [18 15 15]\n",
      " [14 18 16]\n",
      " [11 13 11]\n",
      " [18 10 19]\n",
      " [18 12 16]]\n"
     ]
    }
   ],
   "source": [
    "C=np.random.randint(10,20,(10,1))\n",
    "A = np.column_stack((A,C))\n",
    "print(A)"
   ]
  },
  {
   "cell_type": "code",
   "execution_count": 20,
   "metadata": {},
   "outputs": [
    {
     "name": "stdout",
     "output_type": "stream",
     "text": [
      "[[16 13 13]\n",
      " [11 17 10]\n",
      " [18 12 12]\n",
      " [17 16 11]\n",
      " [12 15 11]\n",
      " [18 15 15]\n",
      " [14 18 16]\n",
      " [11 13 11]\n",
      " [18 10 19]\n",
      " [18 12 16]\n",
      " [13 18 16]]\n"
     ]
    }
   ],
   "source": [
    "R = np.random.randint(10,20,(1,3))\n",
    "A = np.vstack((A,R))\n",
    "print(A)"
   ]
  },
  {
   "cell_type": "code",
   "execution_count": 21,
   "metadata": {
    "scrolled": true
   },
   "outputs": [
    {
     "name": "stdout",
     "output_type": "stream",
     "text": [
      "   X1  X2\n",
      "0  27  21\n",
      "1  22  21\n",
      "2  26  22\n",
      "3  27  23\n",
      "4  28  22\n",
      "5  25  29\n",
      "6  29  21\n",
      "7  26  22\n",
      "8  22  25\n",
      "9  23  23\n"
     ]
    }
   ],
   "source": [
    "M1 = np.random.randint(20,30,(10,2))\n",
    "colm=['X1','X2']\n",
    "df = p.DataFrame(M1,columns=colm)\n",
    "print(df)"
   ]
  },
  {
   "cell_type": "code",
   "execution_count": 22,
   "metadata": {},
   "outputs": [],
   "source": [
    "X = []\n",
    "for i in M:\n",
    "    V = np.array([i[0],i[1]])\n",
    "    for j in M1:\n",
    "        d = np.array([j[0],j[1]])\n",
    "        X.append(np.linalg.norm(d-V))\n",
    "Z = np.reshape(X,(10,10))"
   ]
  },
  {
   "cell_type": "code",
   "execution_count": 23,
   "metadata": {
    "scrolled": true
   },
   "outputs": [
    {
     "name": "stdout",
     "output_type": "stream",
     "text": [
      "[[28.44292531 28.         27.29468813 26.47640459 27.65863337 20.22374842\n",
      "  28.86173938 27.29468813 24.         26.01922366]\n",
      " [12.04159458 16.1245155  13.45362405 13.45362405 12.04159458 19.41648784\n",
      "  10.63014581 13.45362405 18.43908891 16.40121947]\n",
      " [25.49509757 26.92582404 24.73863375 23.53720459 24.33105012 18.38477631\n",
      "  25.17935662 24.73863375 23.2594067  24.69817807]\n",
      " [ 9.89949494 13.89244399 10.          8.60232527  8.48528137  9.05538514\n",
      "   8.60232527 10.         12.36931688 12.08304597]\n",
      " [20.         16.2788206  18.60107524 18.86796226 20.24845673 14.56021978\n",
      "  21.63330765 18.60107524 13.60147051 15.62049935]\n",
      " [16.55294536 21.1896201  17.88854382 17.49285568 16.1245155  22.6715681\n",
      "  14.76482306 17.88854382 22.82542442 21.02379604]\n",
      " [10.29563014 14.86606875 10.77032961  9.48683298  8.94427191 11.40175425\n",
      "   8.60232527 10.77032961 14.03566885 13.34166406]\n",
      " [20.61552813 25.29822128 21.9317122  21.47091055 20.1246118  26.40075756\n",
      "  18.78829423 21.9317122  26.83281573 25.07987241]\n",
      " [10.04987562 10.77032961 11.         12.04159458 11.18033989 18.02775638\n",
      "  10.44030651 11.         14.56021978 12.36931688]\n",
      " [ 3.16227766  6.70820393  4.47213595  5.09901951  4.         11.40175425\n",
      "   3.16227766  4.47213595  9.21954446  7.07106781]]\n"
     ]
    }
   ],
   "source": [
    "print(Z)"
   ]
  },
  {
   "cell_type": "code",
   "execution_count": 24,
   "metadata": {
    "scrolled": true
   },
   "outputs": [
    {
     "name": "stdout",
     "output_type": "stream",
     "text": [
      "[[28.44292531]\n",
      " [28.        ]\n",
      " [27.29468813]\n",
      " [26.47640459]\n",
      " [27.65863337]\n",
      " [20.22374842]\n",
      " [28.86173938]\n",
      " [27.29468813]\n",
      " [24.        ]\n",
      " [26.01922366]\n",
      " [12.04159458]\n",
      " [16.1245155 ]\n",
      " [13.45362405]\n",
      " [13.45362405]\n",
      " [12.04159458]\n",
      " [19.41648784]\n",
      " [10.63014581]\n",
      " [13.45362405]\n",
      " [18.43908891]\n",
      " [16.40121947]\n",
      " [25.49509757]\n",
      " [26.92582404]\n",
      " [24.73863375]\n",
      " [23.53720459]\n",
      " [24.33105012]\n",
      " [18.38477631]\n",
      " [25.17935662]\n",
      " [24.73863375]\n",
      " [23.2594067 ]\n",
      " [24.69817807]\n",
      " [ 9.89949494]\n",
      " [13.89244399]\n",
      " [10.        ]\n",
      " [ 8.60232527]\n",
      " [ 8.48528137]\n",
      " [ 9.05538514]\n",
      " [ 8.60232527]\n",
      " [10.        ]\n",
      " [12.36931688]\n",
      " [12.08304597]\n",
      " [20.        ]\n",
      " [16.2788206 ]\n",
      " [18.60107524]\n",
      " [18.86796226]\n",
      " [20.24845673]\n",
      " [14.56021978]\n",
      " [21.63330765]\n",
      " [18.60107524]\n",
      " [13.60147051]\n",
      " [15.62049935]\n",
      " [16.55294536]\n",
      " [21.1896201 ]\n",
      " [17.88854382]\n",
      " [17.49285568]\n",
      " [16.1245155 ]\n",
      " [22.6715681 ]\n",
      " [14.76482306]\n",
      " [17.88854382]\n",
      " [22.82542442]\n",
      " [21.02379604]\n",
      " [10.29563014]\n",
      " [14.86606875]\n",
      " [10.77032961]\n",
      " [ 9.48683298]\n",
      " [ 8.94427191]\n",
      " [11.40175425]\n",
      " [ 8.60232527]\n",
      " [10.77032961]\n",
      " [14.03566885]\n",
      " [13.34166406]\n",
      " [20.61552813]\n",
      " [25.29822128]\n",
      " [21.9317122 ]\n",
      " [21.47091055]\n",
      " [20.1246118 ]\n",
      " [26.40075756]\n",
      " [18.78829423]\n",
      " [21.9317122 ]\n",
      " [26.83281573]\n",
      " [25.07987241]\n",
      " [10.04987562]\n",
      " [10.77032961]\n",
      " [11.        ]\n",
      " [12.04159458]\n",
      " [11.18033989]\n",
      " [18.02775638]\n",
      " [10.44030651]\n",
      " [11.        ]\n",
      " [14.56021978]\n",
      " [12.36931688]\n",
      " [ 3.16227766]\n",
      " [ 6.70820393]\n",
      " [ 4.47213595]\n",
      " [ 5.09901951]\n",
      " [ 4.        ]\n",
      " [11.40175425]\n",
      " [ 3.16227766]\n",
      " [ 4.47213595]\n",
      " [ 9.21954446]\n",
      " [ 7.07106781]]\n"
     ]
    }
   ],
   "source": [
    "c = euclidean_distances(M[:,0:2],M1)\n",
    "c = np.reshape(c,(100,1))\n",
    "print(c)"
   ]
  },
  {
   "cell_type": "code",
   "execution_count": 25,
   "metadata": {
    "scrolled": true
   },
   "outputs": [
    {
     "name": "stdout",
     "output_type": "stream",
     "text": [
      "[[22.         21.         28.44292531]\n",
      " [22.         21.         28.        ]\n",
      " [22.         22.         27.29468813]\n",
      " [22.         23.         26.47640459]\n",
      " [22.         22.         27.65863337]\n",
      " [22.         29.         20.22374842]\n",
      " [22.         21.         28.86173938]\n",
      " [22.         22.         27.29468813]\n",
      " [22.         25.         24.        ]\n",
      " [22.         23.         26.01922366]\n",
      " [36.         21.         12.04159458]\n",
      " [36.         21.         16.1245155 ]\n",
      " [36.         22.         13.45362405]\n",
      " [36.         23.         13.45362405]\n",
      " [36.         22.         12.04159458]\n",
      " [36.         29.         19.41648784]\n",
      " [36.         21.         10.63014581]\n",
      " [36.         22.         13.45362405]\n",
      " [36.         25.         18.43908891]\n",
      " [36.         23.         16.40121947]\n",
      " [32.         21.         25.49509757]\n",
      " [32.         21.         26.92582404]\n",
      " [32.         22.         24.73863375]\n",
      " [32.         23.         23.53720459]\n",
      " [32.         22.         24.33105012]\n",
      " [32.         29.         18.38477631]\n",
      " [32.         21.         25.17935662]\n",
      " [32.         22.         24.73863375]\n",
      " [32.         25.         23.2594067 ]\n",
      " [32.         23.         24.69817807]\n",
      " [34.         21.          9.89949494]\n",
      " [34.         21.         13.89244399]\n",
      " [34.         22.         10.        ]\n",
      " [34.         23.          8.60232527]\n",
      " [34.         22.          8.48528137]\n",
      " [34.         29.          9.05538514]\n",
      " [34.         21.          8.60232527]\n",
      " [34.         22.         10.        ]\n",
      " [34.         25.         12.36931688]\n",
      " [34.         23.         12.08304597]\n",
      " [11.         21.         20.        ]\n",
      " [11.         21.         16.2788206 ]\n",
      " [11.         22.         18.60107524]\n",
      " [11.         23.         18.86796226]\n",
      " [11.         22.         20.24845673]\n",
      " [11.         29.         14.56021978]\n",
      " [11.         21.         21.63330765]\n",
      " [11.         22.         18.60107524]\n",
      " [11.         25.         13.60147051]\n",
      " [11.         23.         15.62049935]\n",
      " [42.         21.         16.55294536]\n",
      " [42.         21.         21.1896201 ]\n",
      " [42.         22.         17.88854382]\n",
      " [42.         23.         17.49285568]\n",
      " [42.         22.         16.1245155 ]\n",
      " [42.         29.         22.6715681 ]\n",
      " [42.         21.         14.76482306]\n",
      " [42.         22.         17.88854382]\n",
      " [42.         25.         22.82542442]\n",
      " [42.         23.         21.02379604]\n",
      " [36.         21.         10.29563014]\n",
      " [36.         21.         14.86606875]\n",
      " [36.         22.         10.77032961]\n",
      " [36.         23.          9.48683298]\n",
      " [36.         22.          8.94427191]\n",
      " [36.         29.         11.40175425]\n",
      " [36.         21.          8.60232527]\n",
      " [36.         22.         10.77032961]\n",
      " [36.         25.         14.03566885]\n",
      " [36.         23.         13.34166406]\n",
      " [46.         21.         20.61552813]\n",
      " [46.         21.         25.29822128]\n",
      " [46.         22.         21.9317122 ]\n",
      " [46.         23.         21.47091055]\n",
      " [46.         22.         20.1246118 ]\n",
      " [46.         29.         26.40075756]\n",
      " [46.         21.         18.78829423]\n",
      " [46.         22.         21.9317122 ]\n",
      " [46.         25.         26.83281573]\n",
      " [46.         23.         25.07987241]\n",
      " [26.         21.         10.04987562]\n",
      " [26.         21.         10.77032961]\n",
      " [26.         22.         11.        ]\n",
      " [26.         23.         12.04159458]\n",
      " [26.         22.         11.18033989]\n",
      " [26.         29.         18.02775638]\n",
      " [26.         21.         10.44030651]\n",
      " [26.         22.         11.        ]\n",
      " [26.         25.         14.56021978]\n",
      " [26.         23.         12.36931688]\n",
      " [28.         21.          3.16227766]\n",
      " [28.         21.          6.70820393]\n",
      " [28.         22.          4.47213595]\n",
      " [28.         23.          5.09901951]\n",
      " [28.         22.          4.        ]\n",
      " [28.         29.         11.40175425]\n",
      " [28.         21.          3.16227766]\n",
      " [28.         22.          4.47213595]\n",
      " [28.         25.          9.21954446]\n",
      " [28.         23.          7.07106781]]\n"
     ]
    }
   ],
   "source": [
    "d =[]\n",
    "r = []\n",
    "for i in M:\n",
    "    for j in M1:\n",
    "        d.append([i[0],j[1]])\n",
    "r = np.reshape(d,(100,2))\n",
    "r = np.column_stack((r,c))\n",
    "print(r)"
   ]
  },
  {
   "cell_type": "code",
   "execution_count": 26,
   "metadata": {
    "scrolled": true
   },
   "outputs": [
    {
     "name": "stdout",
     "output_type": "stream",
     "text": [
      "[[28.         21.          3.16227766]\n",
      " [28.         21.          3.16227766]\n",
      " [28.         22.          4.        ]\n",
      " [28.         22.          4.47213595]\n",
      " [28.         22.          4.47213595]\n",
      " [28.         23.          5.09901951]\n",
      " [28.         21.          6.70820393]\n",
      " [28.         23.          7.07106781]\n",
      " [34.         22.          8.48528137]\n",
      " [36.         21.          8.60232527]\n",
      " [34.         21.          8.60232527]\n",
      " [34.         23.          8.60232527]\n",
      " [36.         22.          8.94427191]\n",
      " [34.         29.          9.05538514]\n",
      " [28.         25.          9.21954446]\n",
      " [36.         23.          9.48683298]\n",
      " [34.         21.          9.89949494]\n",
      " [34.         22.         10.        ]\n",
      " [34.         22.         10.        ]\n",
      " [26.         21.         10.04987562]\n",
      " [36.         21.         10.29563014]\n",
      " [26.         21.         10.44030651]\n",
      " [36.         21.         10.63014581]\n",
      " [26.         21.         10.77032961]\n",
      " [36.         22.         10.77032961]\n",
      " [36.         22.         10.77032961]\n",
      " [26.         22.         11.        ]\n",
      " [26.         22.         11.        ]\n",
      " [26.         22.         11.18033989]\n",
      " [36.         29.         11.40175425]\n",
      " [28.         29.         11.40175425]\n",
      " [36.         22.         12.04159458]\n",
      " [26.         23.         12.04159458]\n",
      " [36.         21.         12.04159458]\n",
      " [34.         23.         12.08304597]\n",
      " [34.         25.         12.36931688]\n",
      " [26.         23.         12.36931688]\n",
      " [36.         23.         13.34166406]\n",
      " [36.         23.         13.45362405]\n",
      " [36.         22.         13.45362405]\n",
      " [36.         22.         13.45362405]\n",
      " [11.         25.         13.60147051]\n",
      " [34.         21.         13.89244399]\n",
      " [36.         25.         14.03566885]\n",
      " [11.         29.         14.56021978]\n",
      " [26.         25.         14.56021978]\n",
      " [42.         21.         14.76482306]\n",
      " [36.         21.         14.86606875]\n",
      " [11.         23.         15.62049935]\n",
      " [42.         22.         16.1245155 ]\n",
      " [36.         21.         16.1245155 ]\n",
      " [11.         21.         16.2788206 ]\n",
      " [36.         23.         16.40121947]\n",
      " [42.         21.         16.55294536]\n",
      " [42.         23.         17.49285568]\n",
      " [42.         22.         17.88854382]\n",
      " [42.         22.         17.88854382]\n",
      " [26.         29.         18.02775638]\n",
      " [32.         29.         18.38477631]\n",
      " [36.         25.         18.43908891]\n",
      " [11.         22.         18.60107524]\n",
      " [11.         22.         18.60107524]\n",
      " [46.         21.         18.78829423]\n",
      " [11.         23.         18.86796226]\n",
      " [36.         29.         19.41648784]\n",
      " [11.         21.         20.        ]\n",
      " [46.         22.         20.1246118 ]\n",
      " [22.         29.         20.22374842]\n",
      " [11.         22.         20.24845673]\n",
      " [46.         21.         20.61552813]\n",
      " [42.         23.         21.02379604]\n",
      " [42.         21.         21.1896201 ]\n",
      " [46.         23.         21.47091055]\n",
      " [11.         21.         21.63330765]\n",
      " [46.         22.         21.9317122 ]\n",
      " [46.         22.         21.9317122 ]\n",
      " [42.         29.         22.6715681 ]\n",
      " [42.         25.         22.82542442]\n",
      " [32.         25.         23.2594067 ]\n",
      " [32.         23.         23.53720459]\n",
      " [22.         25.         24.        ]\n",
      " [32.         22.         24.33105012]\n",
      " [32.         23.         24.69817807]\n",
      " [32.         22.         24.73863375]\n",
      " [32.         22.         24.73863375]\n",
      " [46.         23.         25.07987241]\n",
      " [32.         21.         25.17935662]\n",
      " [46.         21.         25.29822128]\n",
      " [32.         21.         25.49509757]\n",
      " [22.         23.         26.01922366]\n",
      " [46.         29.         26.40075756]\n",
      " [22.         23.         26.47640459]\n",
      " [46.         25.         26.83281573]\n",
      " [32.         21.         26.92582404]\n",
      " [22.         22.         27.29468813]\n",
      " [22.         22.         27.29468813]\n",
      " [22.         22.         27.65863337]\n",
      " [22.         21.         28.        ]\n",
      " [22.         21.         28.44292531]\n",
      " [22.         21.         28.86173938]]\n"
     ]
    }
   ],
   "source": [
    "z=r[r[:,2].argsort()]\n",
    "print(z)"
   ]
  },
  {
   "cell_type": "code",
   "execution_count": 27,
   "metadata": {
    "scrolled": true
   },
   "outputs": [
    {
     "name": "stdout",
     "output_type": "stream",
     "text": [
      "[[28.         21.          3.16227766]\n",
      " [28.         21.          3.16227766]\n",
      " [28.         22.          4.        ]\n",
      " [28.         22.          4.47213595]\n",
      " [28.         22.          4.47213595]\n",
      " [28.         23.          5.09901951]\n",
      " [28.         21.          6.70820393]\n",
      " [28.         23.          7.07106781]\n",
      " [34.         22.          8.48528137]\n",
      " [36.         21.          8.60232527]\n",
      " [34.         21.          8.60232527]\n",
      " [34.         23.          8.60232527]\n",
      " [36.         22.          8.94427191]\n",
      " [34.         29.          9.05538514]\n",
      " [28.         25.          9.21954446]\n",
      " [36.         23.          9.48683298]\n",
      " [34.         21.          9.89949494]\n",
      " [34.         22.         10.        ]\n",
      " [34.         22.         10.        ]\n",
      " [26.         21.         10.04987562]\n",
      " [36.         21.         10.29563014]\n",
      " [26.         21.         10.44030651]\n",
      " [36.         21.         10.63014581]\n",
      " [26.         21.         10.77032961]\n",
      " [36.         22.         10.77032961]\n",
      " [36.         22.         10.77032961]\n",
      " [26.         22.         11.        ]\n",
      " [26.         22.         11.        ]\n",
      " [26.         22.         11.18033989]\n",
      " [36.         29.         11.40175425]\n",
      " [28.         29.         11.40175425]\n",
      " [36.         22.         12.04159458]\n",
      " [26.         23.         12.04159458]\n",
      " [36.         21.         12.04159458]\n",
      " [34.         23.         12.08304597]\n",
      " [34.         25.         12.36931688]\n",
      " [26.         23.         12.36931688]\n",
      " [36.         23.         13.34166406]\n",
      " [36.         23.         13.45362405]\n",
      " [36.         22.         13.45362405]\n",
      " [36.         22.         13.45362405]\n",
      " [11.         25.         13.60147051]\n",
      " [34.         21.         13.89244399]\n",
      " [36.         25.         14.03566885]\n",
      " [11.         29.         14.56021978]\n",
      " [26.         25.         14.56021978]\n",
      " [42.         21.         14.76482306]\n",
      " [36.         21.         14.86606875]\n",
      " [11.         23.         15.62049935]\n",
      " [42.         22.         16.1245155 ]]\n"
     ]
    }
   ],
   "source": [
    "print(z[:50,:])"
   ]
  },
  {
   "cell_type": "code",
   "execution_count": 28,
   "metadata": {},
   "outputs": [
    {
     "ename": "FileNotFoundError",
     "evalue": "[Errno 2] File diabetes_dataset.csv does not exist: 'diabetes_dataset.csv'",
     "output_type": "error",
     "traceback": [
      "\u001b[1;31m---------------------------------------------------------------------------\u001b[0m",
      "\u001b[1;31mFileNotFoundError\u001b[0m                         Traceback (most recent call last)",
      "\u001b[1;32m<ipython-input-28-9f81fe897211>\u001b[0m in \u001b[0;36m<module>\u001b[1;34m\u001b[0m\n\u001b[0;32m      1\u001b[0m \u001b[0mp\u001b[0m \u001b[1;33m=\u001b[0m \u001b[1;34m'diabetes_dataset.csv'\u001b[0m\u001b[1;33m\u001b[0m\u001b[1;33m\u001b[0m\u001b[0m\n\u001b[1;32m----> 2\u001b[1;33m \u001b[0mdata\u001b[0m \u001b[1;33m=\u001b[0m \u001b[0mread_csv\u001b[0m\u001b[1;33m(\u001b[0m\u001b[0mp\u001b[0m\u001b[1;33m)\u001b[0m\u001b[1;33m\u001b[0m\u001b[1;33m\u001b[0m\u001b[0m\n\u001b[0m\u001b[0;32m      3\u001b[0m \u001b[0mprint\u001b[0m\u001b[1;33m(\u001b[0m\u001b[0mdata\u001b[0m\u001b[1;33m.\u001b[0m\u001b[0mshape\u001b[0m\u001b[1;33m)\u001b[0m\u001b[1;33m\u001b[0m\u001b[1;33m\u001b[0m\u001b[0m\n",
      "\u001b[1;32mR:\\Anaconda\\lib\\site-packages\\pandas\\io\\parsers.py\u001b[0m in \u001b[0;36mparser_f\u001b[1;34m(filepath_or_buffer, sep, delimiter, header, names, index_col, usecols, squeeze, prefix, mangle_dupe_cols, dtype, engine, converters, true_values, false_values, skipinitialspace, skiprows, skipfooter, nrows, na_values, keep_default_na, na_filter, verbose, skip_blank_lines, parse_dates, infer_datetime_format, keep_date_col, date_parser, dayfirst, cache_dates, iterator, chunksize, compression, thousands, decimal, lineterminator, quotechar, quoting, doublequote, escapechar, comment, encoding, dialect, error_bad_lines, warn_bad_lines, delim_whitespace, low_memory, memory_map, float_precision)\u001b[0m\n\u001b[0;32m    674\u001b[0m         )\n\u001b[0;32m    675\u001b[0m \u001b[1;33m\u001b[0m\u001b[0m\n\u001b[1;32m--> 676\u001b[1;33m         \u001b[1;32mreturn\u001b[0m \u001b[0m_read\u001b[0m\u001b[1;33m(\u001b[0m\u001b[0mfilepath_or_buffer\u001b[0m\u001b[1;33m,\u001b[0m \u001b[0mkwds\u001b[0m\u001b[1;33m)\u001b[0m\u001b[1;33m\u001b[0m\u001b[1;33m\u001b[0m\u001b[0m\n\u001b[0m\u001b[0;32m    677\u001b[0m \u001b[1;33m\u001b[0m\u001b[0m\n\u001b[0;32m    678\u001b[0m     \u001b[0mparser_f\u001b[0m\u001b[1;33m.\u001b[0m\u001b[0m__name__\u001b[0m \u001b[1;33m=\u001b[0m \u001b[0mname\u001b[0m\u001b[1;33m\u001b[0m\u001b[1;33m\u001b[0m\u001b[0m\n",
      "\u001b[1;32mR:\\Anaconda\\lib\\site-packages\\pandas\\io\\parsers.py\u001b[0m in \u001b[0;36m_read\u001b[1;34m(filepath_or_buffer, kwds)\u001b[0m\n\u001b[0;32m    446\u001b[0m \u001b[1;33m\u001b[0m\u001b[0m\n\u001b[0;32m    447\u001b[0m     \u001b[1;31m# Create the parser.\u001b[0m\u001b[1;33m\u001b[0m\u001b[1;33m\u001b[0m\u001b[1;33m\u001b[0m\u001b[0m\n\u001b[1;32m--> 448\u001b[1;33m     \u001b[0mparser\u001b[0m \u001b[1;33m=\u001b[0m \u001b[0mTextFileReader\u001b[0m\u001b[1;33m(\u001b[0m\u001b[0mfp_or_buf\u001b[0m\u001b[1;33m,\u001b[0m \u001b[1;33m**\u001b[0m\u001b[0mkwds\u001b[0m\u001b[1;33m)\u001b[0m\u001b[1;33m\u001b[0m\u001b[1;33m\u001b[0m\u001b[0m\n\u001b[0m\u001b[0;32m    449\u001b[0m \u001b[1;33m\u001b[0m\u001b[0m\n\u001b[0;32m    450\u001b[0m     \u001b[1;32mif\u001b[0m \u001b[0mchunksize\u001b[0m \u001b[1;32mor\u001b[0m \u001b[0miterator\u001b[0m\u001b[1;33m:\u001b[0m\u001b[1;33m\u001b[0m\u001b[1;33m\u001b[0m\u001b[0m\n",
      "\u001b[1;32mR:\\Anaconda\\lib\\site-packages\\pandas\\io\\parsers.py\u001b[0m in \u001b[0;36m__init__\u001b[1;34m(self, f, engine, **kwds)\u001b[0m\n\u001b[0;32m    878\u001b[0m             \u001b[0mself\u001b[0m\u001b[1;33m.\u001b[0m\u001b[0moptions\u001b[0m\u001b[1;33m[\u001b[0m\u001b[1;34m\"has_index_names\"\u001b[0m\u001b[1;33m]\u001b[0m \u001b[1;33m=\u001b[0m \u001b[0mkwds\u001b[0m\u001b[1;33m[\u001b[0m\u001b[1;34m\"has_index_names\"\u001b[0m\u001b[1;33m]\u001b[0m\u001b[1;33m\u001b[0m\u001b[1;33m\u001b[0m\u001b[0m\n\u001b[0;32m    879\u001b[0m \u001b[1;33m\u001b[0m\u001b[0m\n\u001b[1;32m--> 880\u001b[1;33m         \u001b[0mself\u001b[0m\u001b[1;33m.\u001b[0m\u001b[0m_make_engine\u001b[0m\u001b[1;33m(\u001b[0m\u001b[0mself\u001b[0m\u001b[1;33m.\u001b[0m\u001b[0mengine\u001b[0m\u001b[1;33m)\u001b[0m\u001b[1;33m\u001b[0m\u001b[1;33m\u001b[0m\u001b[0m\n\u001b[0m\u001b[0;32m    881\u001b[0m \u001b[1;33m\u001b[0m\u001b[0m\n\u001b[0;32m    882\u001b[0m     \u001b[1;32mdef\u001b[0m \u001b[0mclose\u001b[0m\u001b[1;33m(\u001b[0m\u001b[0mself\u001b[0m\u001b[1;33m)\u001b[0m\u001b[1;33m:\u001b[0m\u001b[1;33m\u001b[0m\u001b[1;33m\u001b[0m\u001b[0m\n",
      "\u001b[1;32mR:\\Anaconda\\lib\\site-packages\\pandas\\io\\parsers.py\u001b[0m in \u001b[0;36m_make_engine\u001b[1;34m(self, engine)\u001b[0m\n\u001b[0;32m   1112\u001b[0m     \u001b[1;32mdef\u001b[0m \u001b[0m_make_engine\u001b[0m\u001b[1;33m(\u001b[0m\u001b[0mself\u001b[0m\u001b[1;33m,\u001b[0m \u001b[0mengine\u001b[0m\u001b[1;33m=\u001b[0m\u001b[1;34m\"c\"\u001b[0m\u001b[1;33m)\u001b[0m\u001b[1;33m:\u001b[0m\u001b[1;33m\u001b[0m\u001b[1;33m\u001b[0m\u001b[0m\n\u001b[0;32m   1113\u001b[0m         \u001b[1;32mif\u001b[0m \u001b[0mengine\u001b[0m \u001b[1;33m==\u001b[0m \u001b[1;34m\"c\"\u001b[0m\u001b[1;33m:\u001b[0m\u001b[1;33m\u001b[0m\u001b[1;33m\u001b[0m\u001b[0m\n\u001b[1;32m-> 1114\u001b[1;33m             \u001b[0mself\u001b[0m\u001b[1;33m.\u001b[0m\u001b[0m_engine\u001b[0m \u001b[1;33m=\u001b[0m \u001b[0mCParserWrapper\u001b[0m\u001b[1;33m(\u001b[0m\u001b[0mself\u001b[0m\u001b[1;33m.\u001b[0m\u001b[0mf\u001b[0m\u001b[1;33m,\u001b[0m \u001b[1;33m**\u001b[0m\u001b[0mself\u001b[0m\u001b[1;33m.\u001b[0m\u001b[0moptions\u001b[0m\u001b[1;33m)\u001b[0m\u001b[1;33m\u001b[0m\u001b[1;33m\u001b[0m\u001b[0m\n\u001b[0m\u001b[0;32m   1115\u001b[0m         \u001b[1;32melse\u001b[0m\u001b[1;33m:\u001b[0m\u001b[1;33m\u001b[0m\u001b[1;33m\u001b[0m\u001b[0m\n\u001b[0;32m   1116\u001b[0m             \u001b[1;32mif\u001b[0m \u001b[0mengine\u001b[0m \u001b[1;33m==\u001b[0m \u001b[1;34m\"python\"\u001b[0m\u001b[1;33m:\u001b[0m\u001b[1;33m\u001b[0m\u001b[1;33m\u001b[0m\u001b[0m\n",
      "\u001b[1;32mR:\\Anaconda\\lib\\site-packages\\pandas\\io\\parsers.py\u001b[0m in \u001b[0;36m__init__\u001b[1;34m(self, src, **kwds)\u001b[0m\n\u001b[0;32m   1889\u001b[0m         \u001b[0mkwds\u001b[0m\u001b[1;33m[\u001b[0m\u001b[1;34m\"usecols\"\u001b[0m\u001b[1;33m]\u001b[0m \u001b[1;33m=\u001b[0m \u001b[0mself\u001b[0m\u001b[1;33m.\u001b[0m\u001b[0musecols\u001b[0m\u001b[1;33m\u001b[0m\u001b[1;33m\u001b[0m\u001b[0m\n\u001b[0;32m   1890\u001b[0m \u001b[1;33m\u001b[0m\u001b[0m\n\u001b[1;32m-> 1891\u001b[1;33m         \u001b[0mself\u001b[0m\u001b[1;33m.\u001b[0m\u001b[0m_reader\u001b[0m \u001b[1;33m=\u001b[0m \u001b[0mparsers\u001b[0m\u001b[1;33m.\u001b[0m\u001b[0mTextReader\u001b[0m\u001b[1;33m(\u001b[0m\u001b[0msrc\u001b[0m\u001b[1;33m,\u001b[0m \u001b[1;33m**\u001b[0m\u001b[0mkwds\u001b[0m\u001b[1;33m)\u001b[0m\u001b[1;33m\u001b[0m\u001b[1;33m\u001b[0m\u001b[0m\n\u001b[0m\u001b[0;32m   1892\u001b[0m         \u001b[0mself\u001b[0m\u001b[1;33m.\u001b[0m\u001b[0munnamed_cols\u001b[0m \u001b[1;33m=\u001b[0m \u001b[0mself\u001b[0m\u001b[1;33m.\u001b[0m\u001b[0m_reader\u001b[0m\u001b[1;33m.\u001b[0m\u001b[0munnamed_cols\u001b[0m\u001b[1;33m\u001b[0m\u001b[1;33m\u001b[0m\u001b[0m\n\u001b[0;32m   1893\u001b[0m \u001b[1;33m\u001b[0m\u001b[0m\n",
      "\u001b[1;32mpandas\\_libs\\parsers.pyx\u001b[0m in \u001b[0;36mpandas._libs.parsers.TextReader.__cinit__\u001b[1;34m()\u001b[0m\n",
      "\u001b[1;32mpandas\\_libs\\parsers.pyx\u001b[0m in \u001b[0;36mpandas._libs.parsers.TextReader._setup_parser_source\u001b[1;34m()\u001b[0m\n",
      "\u001b[1;31mFileNotFoundError\u001b[0m: [Errno 2] File diabetes_dataset.csv does not exist: 'diabetes_dataset.csv'"
     ]
    }
   ],
   "source": [
    "p = 'diabetes_dataset.csv'\n",
    "data = read_csv(p)\n",
    "print(data.shape)"
   ]
  },
  {
   "cell_type": "code",
   "execution_count": null,
   "metadata": {},
   "outputs": [],
   "source": [
    "print(data.head(4))"
   ]
  },
  {
   "cell_type": "code",
   "execution_count": 54,
   "metadata": {
    "scrolled": false
   },
   "outputs": [
    {
     "name": "stdout",
     "output_type": "stream",
     "text": [
      "[[5.00e+00 1.39e+02 6.40e+01 ... 2.86e+01 4.11e-01 2.60e+01]\n",
      " [8.00e+00 1.26e+02 7.40e+01 ... 2.59e+01 1.62e-01 3.90e+01]\n",
      " [2.00e+00 8.80e+01 7.40e+01 ... 2.90e+01 2.29e-01 2.20e+01]\n",
      " ...\n",
      " [1.40e+01 1.75e+02 6.20e+01 ... 3.36e+01 2.12e-01 3.80e+01]\n",
      " [1.00e+00 8.40e+01 6.40e+01 ... 3.69e+01 4.71e-01 2.80e+01]\n",
      " [0.00e+00 1.04e+02 6.40e+01 ... 3.36e+01 5.10e-01 2.20e+01]]\n"
     ]
    }
   ],
   "source": [
    "arr=data.values\n",
    "X=arr[:,0:8]\n",
    "Y=arr[:,8]\n",
    "X_train, X_test, y_train, y_test = train_test_split(X, Y,test_size=0.20)\n",
    "print( X_test)"
   ]
  },
  {
   "cell_type": "code",
   "execution_count": 64,
   "metadata": {},
   "outputs": [
    {
     "name": "stdout",
     "output_type": "stream",
     "text": [
      "StandardScaler()\n"
     ]
    }
   ],
   "source": [
    "\n",
    "scaler = StandardScaler().fit(X_train)\n",
    "s1 = StandardScaler().fit(X_test)"
   ]
  },
  {
   "cell_type": "code",
   "execution_count": 65,
   "metadata": {},
   "outputs": [],
   "source": [
    "from sklearn.neighbors import KNeighborsClassifier\n",
    "classifier = KNeighborsClassifier(n_neighbors=5)\n",
    "classifier.fit(X_train, y_train)\n",
    "y_pred = classifier.predict(X_test)"
   ]
  },
  {
   "cell_type": "code",
   "execution_count": 66,
   "metadata": {},
   "outputs": [
    {
     "name": "stdout",
     "output_type": "stream",
     "text": [
      "[[85 22]\n",
      " [23 24]]\n",
      "              precision    recall  f1-score   support\n",
      "\n",
      "         0.0       0.79      0.79      0.79       107\n",
      "         1.0       0.52      0.51      0.52        47\n",
      "\n",
      "    accuracy                           0.71       154\n",
      "   macro avg       0.65      0.65      0.65       154\n",
      "weighted avg       0.71      0.71      0.71       154\n",
      "\n"
     ]
    }
   ],
   "source": [
    "from sklearn.metrics import classification_report, confusion_matrix\n",
    "print(confusion_matrix(y_test, y_pred))\n",
    "print(classification_report(y_test, y_pred))"
   ]
  },
  {
   "cell_type": "code",
   "execution_count": null,
   "metadata": {},
   "outputs": [],
   "source": []
  }
 ],
 "metadata": {
  "kernelspec": {
   "display_name": "Python 3.8.5 ('main')",
   "language": "python",
   "name": "python3"
  },
  "language_info": {
   "codemirror_mode": {
    "name": "ipython",
    "version": 3
   },
   "file_extension": ".py",
   "mimetype": "text/x-python",
   "name": "python",
   "nbconvert_exporter": "python",
   "pygments_lexer": "ipython3",
   "version": "3.8.5"
  },
  "vscode": {
   "interpreter": {
    "hash": "b993f0ac952767b7483d5292c5123f89524434b37b99b4ebeb92f8ac03c9a056"
   }
  }
 },
 "nbformat": 4,
 "nbformat_minor": 5
}
