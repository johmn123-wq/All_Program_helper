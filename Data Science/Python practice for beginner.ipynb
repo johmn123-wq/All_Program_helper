{
 "cells": [
  {
   "cell_type": "code",
   "execution_count": 4,
   "id": "intelligent-heart",
   "metadata": {},
   "outputs": [
    {
     "data": {
      "text/plain": [
       "5.5"
      ]
     },
     "execution_count": 4,
     "metadata": {},
     "output_type": "execute_result"
    }
   ],
   "source": [
    "#20//3\n",
    "a = 2.2\n",
    "b = 3.3\n",
    "a+b\n"
   ]
  },
  {
   "cell_type": "code",
   "execution_count": 5,
   "id": "handled-trader",
   "metadata": {},
   "outputs": [
    {
     "data": {
      "text/plain": [
       "9"
      ]
     },
     "execution_count": 5,
     "metadata": {},
     "output_type": "execute_result"
    }
   ],
   "source": [
    "3+6"
   ]
  },
  {
   "cell_type": "code",
   "execution_count": 4,
   "id": "treated-facial",
   "metadata": {},
   "outputs": [
    {
     "name": "stdout",
     "output_type": "stream",
     "text": [
      "ankit's 'laptop'\n"
     ]
    }
   ],
   "source": [
    "print(\"ankit's 'laptop'\")"
   ]
  },
  {
   "cell_type": "code",
   "execution_count": 126,
   "id": "tough-conversation",
   "metadata": {},
   "outputs": [
    {
     "name": "stdout",
     "output_type": "stream",
     "text": [
      "ankit 's \"laptop\"\n"
     ]
    }
   ],
   "source": [
    "print('ankit \\'s \"laptop\"') # / is used to ignore the special meaning like 's"
   ]
  },
  {
   "cell_type": "code",
   "execution_count": 7,
   "id": "ahead-region",
   "metadata": {},
   "outputs": [
    {
     "data": {
      "text/plain": [
       "[12, 13, 14, 15, 16]"
      ]
     },
     "execution_count": 7,
     "metadata": {},
     "output_type": "execute_result"
    }
   ],
   "source": [
    "ank= [ 12, 13, 14, 15, 16]\n",
    "ank"
   ]
  },
  {
   "cell_type": "code",
   "execution_count": 8,
   "id": "important-trade",
   "metadata": {},
   "outputs": [
    {
     "data": {
      "text/plain": [
       "15"
      ]
     },
     "execution_count": 8,
     "metadata": {},
     "output_type": "execute_result"
    }
   ],
   "source": [
    "ank.pop(3)"
   ]
  },
  {
   "cell_type": "code",
   "execution_count": 9,
   "id": "german-serbia",
   "metadata": {},
   "outputs": [
    {
     "data": {
      "text/plain": [
       "[12, 13, 14, 16]"
      ]
     },
     "execution_count": 9,
     "metadata": {},
     "output_type": "execute_result"
    }
   ],
   "source": [
    "ank"
   ]
  },
  {
   "cell_type": "code",
   "execution_count": 19,
   "id": "infectious-unknown",
   "metadata": {},
   "outputs": [
    {
     "data": {
      "text/plain": [
       "(2+3j)"
      ]
     },
     "execution_count": 19,
     "metadata": {},
     "output_type": "execute_result"
    }
   ],
   "source": [
    "ankit=2+3j\n",
    "ankit"
   ]
  },
  {
   "cell_type": "code",
   "execution_count": 20,
   "id": "above-growth",
   "metadata": {},
   "outputs": [
    {
     "data": {
      "text/plain": [
       "complex"
      ]
     },
     "execution_count": 20,
     "metadata": {},
     "output_type": "execute_result"
    }
   ],
   "source": [
    "type(ankit)"
   ]
  },
  {
   "cell_type": "code",
   "execution_count": 21,
   "id": "boxed-walter",
   "metadata": {},
   "outputs": [
    {
     "data": {
      "text/plain": [
       "'0b10011010010'"
      ]
     },
     "execution_count": 21,
     "metadata": {},
     "output_type": "execute_result"
    }
   ],
   "source": [
    "bin(1234)"
   ]
  },
  {
   "cell_type": "code",
   "execution_count": 26,
   "id": "dedicated-preparation",
   "metadata": {},
   "outputs": [
    {
     "name": "stdout",
     "output_type": "stream",
     "text": [
      "7 5\n"
     ]
    }
   ],
   "source": [
    "a=5\n",
    "b=7\n",
    "a,b=b,a\n",
    "print(a,b)"
   ]
  },
  {
   "cell_type": "code",
   "execution_count": 29,
   "id": "short-committee",
   "metadata": {},
   "outputs": [
    {
     "data": {
      "text/plain": [
       "8.0"
      ]
     },
     "execution_count": 29,
     "metadata": {},
     "output_type": "execute_result"
    }
   ],
   "source": [
    "import math\n",
    "x=math.sqrt(64)\n",
    "x"
   ]
  },
  {
   "cell_type": "code",
   "execution_count": 30,
   "id": "enclosed-aaron",
   "metadata": {},
   "outputs": [
    {
     "data": {
      "text/plain": [
       "16.0"
      ]
     },
     "execution_count": 30,
     "metadata": {},
     "output_type": "execute_result"
    }
   ],
   "source": [
    "y=math.pow(4,2)\n",
    "y"
   ]
  },
  {
   "cell_type": "code",
   "execution_count": 31,
   "id": "computational-vinyl",
   "metadata": {},
   "outputs": [
    {
     "data": {
      "text/plain": [
       "4"
      ]
     },
     "execution_count": 31,
     "metadata": {},
     "output_type": "execute_result"
    }
   ],
   "source": [
    "z=math.ceil(3.3) # ceil is used for rounding the no. at its higher digit\n",
    "z"
   ]
  },
  {
   "cell_type": "code",
   "execution_count": 32,
   "id": "imported-nepal",
   "metadata": {},
   "outputs": [
    {
     "data": {
      "text/plain": [
       "3"
      ]
     },
     "execution_count": 32,
     "metadata": {},
     "output_type": "execute_result"
    }
   ],
   "source": [
    "xx=math.floor(3.3) # floor is used for roundimg the no. at its lower digit\n",
    "xx"
   ]
  },
  {
   "cell_type": "code",
   "execution_count": 34,
   "id": "virtual-integration",
   "metadata": {},
   "outputs": [
    {
     "name": "stdout",
     "output_type": "stream",
     "text": [
      "Help on built-in module math:\n",
      "\n",
      "NAME\n",
      "    math\n",
      "\n",
      "DESCRIPTION\n",
      "    This module provides access to the mathematical functions\n",
      "    defined by the C standard.\n",
      "\n",
      "FUNCTIONS\n",
      "    acos(x, /)\n",
      "        Return the arc cosine (measured in radians) of x.\n",
      "    \n",
      "    acosh(x, /)\n",
      "        Return the inverse hyperbolic cosine of x.\n",
      "    \n",
      "    asin(x, /)\n",
      "        Return the arc sine (measured in radians) of x.\n",
      "    \n",
      "    asinh(x, /)\n",
      "        Return the inverse hyperbolic sine of x.\n",
      "    \n",
      "    atan(x, /)\n",
      "        Return the arc tangent (measured in radians) of x.\n",
      "    \n",
      "    atan2(y, x, /)\n",
      "        Return the arc tangent (measured in radians) of y/x.\n",
      "        \n",
      "        Unlike atan(y/x), the signs of both x and y are considered.\n",
      "    \n",
      "    atanh(x, /)\n",
      "        Return the inverse hyperbolic tangent of x.\n",
      "    \n",
      "    ceil(x, /)\n",
      "        Return the ceiling of x as an Integral.\n",
      "        \n",
      "        This is the smallest integer >= x.\n",
      "    \n",
      "    copysign(x, y, /)\n",
      "        Return a float with the magnitude (absolute value) of x but the sign of y.\n",
      "        \n",
      "        On platforms that support signed zeros, copysign(1.0, -0.0)\n",
      "        returns -1.0.\n",
      "    \n",
      "    cos(x, /)\n",
      "        Return the cosine of x (measured in radians).\n",
      "    \n",
      "    cosh(x, /)\n",
      "        Return the hyperbolic cosine of x.\n",
      "    \n",
      "    degrees(x, /)\n",
      "        Convert angle x from radians to degrees.\n",
      "    \n",
      "    erf(x, /)\n",
      "        Error function at x.\n",
      "    \n",
      "    erfc(x, /)\n",
      "        Complementary error function at x.\n",
      "    \n",
      "    exp(x, /)\n",
      "        Return e raised to the power of x.\n",
      "    \n",
      "    expm1(x, /)\n",
      "        Return exp(x)-1.\n",
      "        \n",
      "        This function avoids the loss of precision involved in the direct evaluation of exp(x)-1 for small x.\n",
      "    \n",
      "    fabs(x, /)\n",
      "        Return the absolute value of the float x.\n",
      "    \n",
      "    factorial(x, /)\n",
      "        Find x!.\n",
      "        \n",
      "        Raise a ValueError if x is negative or non-integral.\n",
      "    \n",
      "    floor(x, /)\n",
      "        Return the floor of x as an Integral.\n",
      "        \n",
      "        This is the largest integer <= x.\n",
      "    \n",
      "    fmod(x, y, /)\n",
      "        Return fmod(x, y), according to platform C.\n",
      "        \n",
      "        x % y may differ.\n",
      "    \n",
      "    frexp(x, /)\n",
      "        Return the mantissa and exponent of x, as pair (m, e).\n",
      "        \n",
      "        m is a float and e is an int, such that x = m * 2.**e.\n",
      "        If x is 0, m and e are both 0.  Else 0.5 <= abs(m) < 1.0.\n",
      "    \n",
      "    fsum(seq, /)\n",
      "        Return an accurate floating point sum of values in the iterable seq.\n",
      "        \n",
      "        Assumes IEEE-754 floating point arithmetic.\n",
      "    \n",
      "    gamma(x, /)\n",
      "        Gamma function at x.\n",
      "    \n",
      "    gcd(x, y, /)\n",
      "        greatest common divisor of x and y\n",
      "    \n",
      "    hypot(x, y, /)\n",
      "        Return the Euclidean distance, sqrt(x*x + y*y).\n",
      "    \n",
      "    isclose(a, b, *, rel_tol=1e-09, abs_tol=0.0)\n",
      "        Determine whether two floating point numbers are close in value.\n",
      "        \n",
      "          rel_tol\n",
      "            maximum difference for being considered \"close\", relative to the\n",
      "            magnitude of the input values\n",
      "          abs_tol\n",
      "            maximum difference for being considered \"close\", regardless of the\n",
      "            magnitude of the input values\n",
      "        \n",
      "        Return True if a is close in value to b, and False otherwise.\n",
      "        \n",
      "        For the values to be considered close, the difference between them\n",
      "        must be smaller than at least one of the tolerances.\n",
      "        \n",
      "        -inf, inf and NaN behave similarly to the IEEE 754 Standard.  That\n",
      "        is, NaN is not close to anything, even itself.  inf and -inf are\n",
      "        only close to themselves.\n",
      "    \n",
      "    isfinite(x, /)\n",
      "        Return True if x is neither an infinity nor a NaN, and False otherwise.\n",
      "    \n",
      "    isinf(x, /)\n",
      "        Return True if x is a positive or negative infinity, and False otherwise.\n",
      "    \n",
      "    isnan(x, /)\n",
      "        Return True if x is a NaN (not a number), and False otherwise.\n",
      "    \n",
      "    ldexp(x, i, /)\n",
      "        Return x * (2**i).\n",
      "        \n",
      "        This is essentially the inverse of frexp().\n",
      "    \n",
      "    lgamma(x, /)\n",
      "        Natural logarithm of absolute value of Gamma function at x.\n",
      "    \n",
      "    log(...)\n",
      "        log(x, [base=math.e])\n",
      "        Return the logarithm of x to the given base.\n",
      "        \n",
      "        If the base not specified, returns the natural logarithm (base e) of x.\n",
      "    \n",
      "    log10(x, /)\n",
      "        Return the base 10 logarithm of x.\n",
      "    \n",
      "    log1p(x, /)\n",
      "        Return the natural logarithm of 1+x (base e).\n",
      "        \n",
      "        The result is computed in a way which is accurate for x near zero.\n",
      "    \n",
      "    log2(x, /)\n",
      "        Return the base 2 logarithm of x.\n",
      "    \n",
      "    modf(x, /)\n",
      "        Return the fractional and integer parts of x.\n",
      "        \n",
      "        Both results carry the sign of x and are floats.\n",
      "    \n",
      "    pow(x, y, /)\n",
      "        Return x**y (x to the power of y).\n",
      "    \n",
      "    radians(x, /)\n",
      "        Convert angle x from degrees to radians.\n",
      "    \n",
      "    remainder(x, y, /)\n",
      "        Difference between x and the closest integer multiple of y.\n",
      "        \n",
      "        Return x - n*y where n*y is the closest integer multiple of y.\n",
      "        In the case where x is exactly halfway between two multiples of\n",
      "        y, the nearest even value of n is used. The result is always exact.\n",
      "    \n",
      "    sin(x, /)\n",
      "        Return the sine of x (measured in radians).\n",
      "    \n",
      "    sinh(x, /)\n",
      "        Return the hyperbolic sine of x.\n",
      "    \n",
      "    sqrt(x, /)\n",
      "        Return the square root of x.\n",
      "    \n",
      "    tan(x, /)\n",
      "        Return the tangent of x (measured in radians).\n",
      "    \n",
      "    tanh(x, /)\n",
      "        Return the hyperbolic tangent of x.\n",
      "    \n",
      "    trunc(x, /)\n",
      "        Truncates the Real x to the nearest Integral toward 0.\n",
      "        \n",
      "        Uses the __trunc__ magic method.\n",
      "\n",
      "DATA\n",
      "    e = 2.718281828459045\n",
      "    inf = inf\n",
      "    nan = nan\n",
      "    pi = 3.141592653589793\n",
      "    tau = 6.283185307179586\n",
      "\n",
      "FILE\n",
      "    (built-in)\n",
      "\n",
      "\n"
     ]
    }
   ],
   "source": [
    "help(\"math\")"
   ]
  },
  {
   "cell_type": "code",
   "execution_count": 1,
   "id": "brazilian-cross",
   "metadata": {},
   "outputs": [
    {
     "name": "stdout",
     "output_type": "stream",
     "text": [
      "Enter 1st number19\n",
      "Enter 2nd number39\n"
     ]
    },
    {
     "data": {
      "text/plain": [
       "58"
      ]
     },
     "execution_count": 1,
     "metadata": {},
     "output_type": "execute_result"
    }
   ],
   "source": [
    "x=int(input(\"Enter 1st number\"))   # input has default string data type\n",
    "y=int(input(\"Enter 2nd number\"))\n",
    "z=x+y\n",
    "z"
   ]
  },
  {
   "cell_type": "code",
   "execution_count": 6,
   "id": "systematic-launch",
   "metadata": {},
   "outputs": [
    {
     "name": "stdout",
     "output_type": "stream",
     "text": [
      "enter character valueanki\n"
     ]
    },
    {
     "data": {
      "text/plain": [
       "'k'"
      ]
     },
     "execution_count": 6,
     "metadata": {},
     "output_type": "execute_result"
    }
   ],
   "source": [
    "character=input(\"enter character value\")\n",
    "character[2]"
   ]
  },
  {
   "cell_type": "code",
   "execution_count": 7,
   "id": "intelligent-praise",
   "metadata": {},
   "outputs": [
    {
     "name": "stdout",
     "output_type": "stream",
     "text": [
      "enter characteranki\n"
     ]
    },
    {
     "data": {
      "text/plain": [
       "'n'"
      ]
     },
     "execution_count": 7,
     "metadata": {},
     "output_type": "execute_result"
    }
   ],
   "source": [
    "char=input(\"enter character\")[1]\n",
    "char"
   ]
  },
  {
   "cell_type": "code",
   "execution_count": 8,
   "id": "isolated-immune",
   "metadata": {},
   "outputs": [
    {
     "name": "stdout",
     "output_type": "stream",
     "text": [
      "enter an expression1+4-8+2\n"
     ]
    },
    {
     "data": {
      "text/plain": [
       "-1"
      ]
     },
     "execution_count": 8,
     "metadata": {},
     "output_type": "execute_result"
    }
   ],
   "source": [
    "eq=eval(input(\"enter an expression\"))   # eval is evaluate\n",
    "eq"
   ]
  },
  {
   "cell_type": "code",
   "execution_count": 21,
   "id": "personalized-incentive",
   "metadata": {},
   "outputs": [
    {
     "name": "stdout",
     "output_type": "stream",
     "text": [
      "7\n",
      "odd\n"
     ]
    }
   ],
   "source": [
    "a= int(input())\n",
    "x = a % 2\n",
    "if x==0:\n",
    "    print(\"Even\")\n",
    "else:\n",
    "    print(\"odd\")\n"
   ]
  },
  {
   "cell_type": "code",
   "execution_count": 24,
   "id": "offensive-globe",
   "metadata": {},
   "outputs": [
    {
     "name": "stdout",
     "output_type": "stream",
     "text": [
      "13\n",
      "odd\n",
      "[13, 15, 17]\n"
     ]
    }
   ],
   "source": [
    "a = int(input())\n",
    "x=a%2\n",
    "if x==0:\n",
    "    print(\"even\")\n",
    "    print([a+1,a+3,a+5])\n",
    "else:\n",
    "    print(\"odd\")\n",
    "    print([a,a+2,a+4])"
   ]
  },
  {
   "cell_type": "code",
   "execution_count": 27,
   "id": "sapphire-reservation",
   "metadata": {},
   "outputs": [
    {
     "name": "stdout",
     "output_type": "stream",
     "text": [
      "2\n",
      "two\n"
     ]
    }
   ],
   "source": [
    "t= int(input())\n",
    "if t==1:\n",
    "    print(\"one\")\n",
    "elif t==2:\n",
    "    print(\"two\")\n",
    "else:\n",
    "    print(\"no. other then one and two\")"
   ]
  },
  {
   "cell_type": "code",
   "execution_count": 33,
   "id": "suitable-album",
   "metadata": {},
   "outputs": [
    {
     "name": "stdout",
     "output_type": "stream",
     "text": [
      "ankit 1\n",
      "ankit 2\n",
      "ankit 3\n",
      "ankit 4\n",
      "ankit 5\n"
     ]
    }
   ],
   "source": [
    "# While Loop\n",
    "i=1                   # initialising\n",
    "while i<=5:           # condition\n",
    "    print(\"ankit\",i) \n",
    "    i=i+1             # increament"
   ]
  },
  {
   "cell_type": "code",
   "execution_count": 61,
   "id": "expected-mainland",
   "metadata": {},
   "outputs": [
    {
     "name": "stdout",
     "output_type": "stream",
     "text": [
      "ankit\n",
      "rock\n",
      "rock\n",
      "rock\n",
      "rock\n",
      "\n",
      "ankit\n",
      "rock\n",
      "rock\n",
      "rock\n",
      "rock\n",
      "\n",
      "ankit\n",
      "rock\n",
      "rock\n",
      "rock\n",
      "rock\n",
      "\n",
      "ankit\n",
      "rock\n",
      "rock\n",
      "rock\n",
      "rock\n",
      "\n",
      "ankit\n",
      "rock\n",
      "rock\n",
      "rock\n",
      "rock\n",
      "\n"
     ]
    }
   ],
   "source": [
    "i=1\n",
    "while i<=5:\n",
    "    print(\"ankit\")\n",
    "    j=1\n",
    "    while j<=4:\n",
    "        print(\"rock\")\n",
    "        j=j+1\n",
    "    i=i+1 \n",
    "    print()"
   ]
  },
  {
   "cell_type": "code",
   "execution_count": 63,
   "id": "simple-thumbnail",
   "metadata": {},
   "outputs": [
    {
     "name": "stdout",
     "output_type": "stream",
     "text": [
      "ankit rock rock rock rock \n",
      "ankit rock rock rock rock \n",
      "ankit rock rock rock rock \n",
      "ankit rock rock rock rock \n",
      "ankit rock rock rock rock \n"
     ]
    }
   ],
   "source": [
    "i=1\n",
    "while i<=5:\n",
    "    print(\"ankit \",end=\"\") # run on same line so we use end=\"\"\n",
    "    j=1\n",
    "    while j<=4:\n",
    "        print(\"rock \",end=\"\") # run on same line so we use end=\"\"\n",
    "        j=j+1\n",
    "    i=i+1   \n",
    "    print()"
   ]
  },
  {
   "cell_type": "code",
   "execution_count": 41,
   "id": "printable-massage",
   "metadata": {},
   "outputs": [
    {
     "name": "stdout",
     "output_type": "stream",
     "text": [
      "11\n",
      "12\n",
      "13\n",
      "14\n",
      "15\n",
      "16\n",
      "17\n",
      "18\n",
      "19\n",
      "20\n"
     ]
    }
   ],
   "source": [
    "# For Loop\n",
    "for i in range(11,21,1):\n",
    "    print(i)\n"
   ]
  },
  {
   "cell_type": "code",
   "execution_count": 56,
   "id": "rough-attitude",
   "metadata": {},
   "outputs": [
    {
     "name": "stdout",
     "output_type": "stream",
     "text": [
      "How many candy you want10\n",
      "candy\n",
      "candy\n",
      "candy\n",
      "candy\n",
      "candy\n",
      "Out of stock\n"
     ]
    }
   ],
   "source": [
    "c=int(input(\"How many candy you want\"))\n",
    "av=5\n",
    "i=1\n",
    "while i<=c:\n",
    "    if i>av:\n",
    "        print(\"Out of stock\")\n",
    "        break # Break statement is used to stop the condition\n",
    "    print(\"candy\")\n",
    "    i+=1   "
   ]
  },
  {
   "cell_type": "code",
   "execution_count": 74,
   "id": "controlling-threat",
   "metadata": {},
   "outputs": [
    {
     "name": "stdout",
     "output_type": "stream",
     "text": [
      "Hello 0\n",
      "Hello 1\n",
      "Hello 2\n",
      "Hello 4\n"
     ]
    }
   ],
   "source": [
    "# Continue is use to skip the further execution\n",
    "for i in range(5):\n",
    "    if i==3:\n",
    "        continue\n",
    "    print(\"Hello\",i)"
   ]
  },
  {
   "cell_type": "code",
   "execution_count": 64,
   "id": "classified-creature",
   "metadata": {},
   "outputs": [
    {
     "name": "stdout",
     "output_type": "stream",
     "text": [
      "1\n",
      "3\n",
      "5\n",
      "7\n",
      "9\n",
      "11\n",
      "13\n",
      "15\n",
      "17\n",
      "19\n",
      "21\n",
      "23\n",
      "25\n",
      "27\n",
      "29\n",
      "31\n",
      "33\n",
      "35\n",
      "37\n",
      "39\n",
      "41\n",
      "43\n",
      "45\n",
      "47\n",
      "49\n",
      "51\n",
      "53\n",
      "55\n",
      "57\n",
      "59\n",
      "61\n",
      "63\n",
      "65\n",
      "67\n",
      "69\n",
      "71\n",
      "73\n",
      "75\n",
      "77\n",
      "79\n",
      "81\n",
      "83\n",
      "85\n",
      "87\n",
      "89\n",
      "91\n",
      "93\n",
      "95\n",
      "97\n",
      "99\n"
     ]
    }
   ],
   "source": [
    "for i in range(1,101):\n",
    "    if (i%2==0):\n",
    "        pass # Pass is used to skip the no.\n",
    "        \n",
    "    else:\n",
    "        print(i)\n",
    "    "
   ]
  },
  {
   "cell_type": "code",
   "execution_count": 125,
   "id": "prostate-president",
   "metadata": {},
   "outputs": [
    {
     "name": "stdout",
     "output_type": "stream",
     "text": [
      "* * * * \n",
      "* * * * \n",
      "* * * * \n",
      "* * * * \n"
     ]
    }
   ],
   "source": [
    "i=1\n",
    "\n",
    "while i<=4:\n",
    "    j=1\n",
    "    while j<=4:\n",
    "        print(\"* \",end=\"\")\n",
    "        j=j+1\n",
    "    i=i+1\n",
    "    print()\n",
    "        "
   ]
  },
  {
   "cell_type": "code",
   "execution_count": 103,
   "id": "pending-partnership",
   "metadata": {},
   "outputs": [
    {
     "name": "stdout",
     "output_type": "stream",
     "text": [
      "* * * * \n",
      "* * * * \n",
      "* * * * \n",
      "* * * * \n"
     ]
    }
   ],
   "source": [
    "for i in range(4):\n",
    "    for j in range(4):\n",
    "        print(\"* \",end=\"\")\n",
    "    print()    "
   ]
  },
  {
   "cell_type": "code",
   "execution_count": 2,
   "id": "alien-latino",
   "metadata": {},
   "outputs": [
    {
     "name": "stdout",
     "output_type": "stream",
     "text": [
      "* \n",
      "* * \n",
      "* * * \n",
      "* * * * \n"
     ]
    }
   ],
   "source": [
    "for i in range(4):\n",
    "    for j in range(i+1):\n",
    "        print(\"* \",end=\"\")\n",
    "    print()  "
   ]
  },
  {
   "cell_type": "code",
   "execution_count": 109,
   "id": "available-albuquerque",
   "metadata": {},
   "outputs": [
    {
     "name": "stdout",
     "output_type": "stream",
     "text": [
      "* * * * \n",
      "* * * \n",
      "* * \n",
      "* \n"
     ]
    }
   ],
   "source": [
    "for i in range(4):\n",
    "    for j in range(4-i):\n",
    "        print(\"* \",end=\"\")\n",
    "        \n",
    "    print()"
   ]
  },
  {
   "cell_type": "code",
   "execution_count": 112,
   "id": "italian-federation",
   "metadata": {},
   "outputs": [
    {
     "name": "stdout",
     "output_type": "stream",
     "text": [
      " Not prime no.\n"
     ]
    }
   ],
   "source": [
    "# Prime no.\n",
    "i=10\n",
    "for n in range(2,i):\n",
    "    if i%n==0:\n",
    "        print(\" Not prime no.\")\n",
    "        break\n",
    "else:\n",
    "    print(\"Prime no.\")"
   ]
  },
  {
   "cell_type": "code",
   "execution_count": 124,
   "id": "bigger-gateway",
   "metadata": {},
   "outputs": [
    {
     "name": "stdout",
     "output_type": "stream",
     "text": [
      "* \n",
      "* * \n",
      "* * * \n",
      "* * * * \n"
     ]
    }
   ],
   "source": [
    "i=1\n",
    "\n",
    "while i<=4:\n",
    "    j=1\n",
    "    while j<=i:\n",
    "        print(\"* \",end=\"\")\n",
    "        j=j+1\n",
    "    i=i+1\n",
    "    print()"
   ]
  },
  {
   "cell_type": "code",
   "execution_count": 123,
   "id": "military-trading",
   "metadata": {},
   "outputs": [
    {
     "name": "stdout",
     "output_type": "stream",
     "text": [
      "* * * * \n",
      "* * * \n",
      "* * \n",
      "* \n"
     ]
    }
   ],
   "source": [
    "\n",
    "i=1\n",
    "while i<=4:\n",
    "    j=4\n",
    "    while j>=i:\n",
    "        print(\"* \",end=\"\")\n",
    "        j=j-1\n",
    "    i=i+1\n",
    "    print()"
   ]
  },
  {
   "cell_type": "code",
   "execution_count": 15,
   "id": "combined-flood",
   "metadata": {},
   "outputs": [
    {
     "name": "stdout",
     "output_type": "stream",
     "text": [
      "Enter the length of array3\n",
      "Enter the no.1\n",
      "Enter the no.2\n",
      "Enter the no.3\n",
      "array('i', [1, 2, 3])\n"
     ]
    }
   ],
   "source": [
    "import array as arr\n",
    "arr= array('i',[])    # i represent int data type\n",
    "n=int(input(\"Enter the length of array\"))\n",
    "for i in range(n):\n",
    "    x=int(input(\"Enter the no.\"))\n",
    "    arr.append(x)     # append is used to add values\n",
    "print(arr)    \n",
    "    \n",
    "\n",
    "        "
   ]
  },
  {
   "cell_type": "code",
   "execution_count": 27,
   "id": "speaking-remove",
   "metadata": {},
   "outputs": [
    {
     "name": "stdout",
     "output_type": "stream",
     "text": [
      "[1 2 3]\n"
     ]
    }
   ],
   "source": [
    "# Numpy\n",
    "from numpy import*\n",
    "arr=array([1,2,3]) # in numpy we don't mention the data type to make an array\n",
    "print(arr)\n"
   ]
  },
  {
   "cell_type": "code",
   "execution_count": 30,
   "id": "experienced-counter",
   "metadata": {},
   "outputs": [
    {
     "name": "stdout",
     "output_type": "stream",
     "text": [
      "[ 1  3  5  7  9 11 13 15 17 19]\n"
     ]
    }
   ],
   "source": [
    "arr=arange(1,20,2)\n",
    "print(arr)"
   ]
  },
  {
   "cell_type": "code",
   "execution_count": 40,
   "id": "painted-depression",
   "metadata": {},
   "outputs": [
    {
     "name": "stdout",
     "output_type": "stream",
     "text": [
      "[[1 2 3]\n",
      " [4 5 6]\n",
      " [7 8 9]]\n"
     ]
    }
   ],
   "source": [
    "m=matrix('1,2,3; 4,5,6; 7,8,9')\n",
    "print(m)"
   ]
  },
  {
   "cell_type": "code",
   "execution_count": null,
   "id": "wicked-clearing",
   "metadata": {},
   "outputs": [],
   "source": [
    "# creating new function\n",
    "def ankit():\n",
    "    print(\"Hello\")       # Function content\n",
    "    print(\"Everyone\")\n",
    "ankit()    "
   ]
  },
  {
   "cell_type": "code",
   "execution_count": 23,
   "id": "afraid-simon",
   "metadata": {},
   "outputs": [
    {
     "name": "stdout",
     "output_type": "stream",
     "text": [
      "[12 23 45 67]\n",
      "[12 23 45 67]\n"
     ]
    }
   ],
   "source": [
    "from numpy import*\n",
    "arr2 =array([12,23,45,67])\n",
    "print(arr)\n",
    "arr1 = arr2.copy()\n",
    "print(arr1)"
   ]
  },
  {
   "cell_type": "code",
   "execution_count": 32,
   "id": "documented-background",
   "metadata": {},
   "outputs": [
    {
     "name": "stdout",
     "output_type": "stream",
     "text": [
      "ankit\n",
      "12\n"
     ]
    }
   ],
   "source": [
    "# position argument\n",
    "def person(name,age):\n",
    "    print(name)\n",
    "    print(age)\n",
    "person(\"ankit\",12)    "
   ]
  },
  {
   "cell_type": "code",
   "execution_count": 29,
   "id": "certified-participation",
   "metadata": {},
   "outputs": [
    {
     "name": "stdout",
     "output_type": "stream",
     "text": [
      "ankit\n",
      "12\n"
     ]
    }
   ],
   "source": [
    "# Keword argument\n",
    "def person(name,age):\n",
    "    print(name)\n",
    "    print(age)\n",
    "person(name=\"ankit\",age=12) "
   ]
  },
  {
   "cell_type": "code",
   "execution_count": 30,
   "id": "aggressive-pickup",
   "metadata": {},
   "outputs": [
    {
     "name": "stdout",
     "output_type": "stream",
     "text": [
      "ankit\n",
      "18\n"
     ]
    }
   ],
   "source": [
    "# Default argument\n",
    "def person(name,age=18):  # default age is 18\n",
    "    print(name)\n",
    "    print(age)\n",
    "person(\"ankit\") "
   ]
  },
  {
   "cell_type": "code",
   "execution_count": 38,
   "id": "coral-rocket",
   "metadata": {},
   "outputs": [
    {
     "name": "stdout",
     "output_type": "stream",
     "text": [
      "ankit\n",
      "18\n"
     ]
    }
   ],
   "source": [
    "# Default argument\n",
    "def person(name,age=18):  # default age is 18\n",
    "    print(name)\n",
    "    print(age)\n",
    "person(\"ankit\")"
   ]
  },
  {
   "cell_type": "code",
   "execution_count": 39,
   "id": "textile-auction",
   "metadata": {},
   "outputs": [
    {
     "name": "stdout",
     "output_type": "stream",
     "text": [
      "ankit\n",
      "(18, 'noida', 345678)\n"
     ]
    }
   ],
   "source": [
    "# vaiable length argument\n",
    "def person(name,*data):  # * passes multiple values\n",
    "    print(name)\n",
    "    print(data)\n",
    "person(\"ankit\",18,\"noida\",345678) "
   ]
  },
  {
   "cell_type": "code",
   "execution_count": 40,
   "id": "optional-verification",
   "metadata": {},
   "outputs": [
    {
     "name": "stdout",
     "output_type": "stream",
     "text": [
      "ankit\n",
      "{'age': 18, 'city': 'noida', 'pin': 285678}\n"
     ]
    }
   ],
   "source": [
    "# Keyword Variable length argument\n",
    "def person(name,**data):  # ** passes multiple values with keyword\n",
    "    print(name)\n",
    "    print(data)\n",
    "person(\"ankit\",age=18,city=\"noida\",pin=285678)"
   ]
  },
  {
   "cell_type": "code",
   "execution_count": 48,
   "id": "infectious-command",
   "metadata": {},
   "outputs": [
    {
     "name": "stdout",
     "output_type": "stream",
     "text": [
      "local 15\n",
      "global 10\n"
     ]
    }
   ],
   "source": [
    "a=10               # Global value (outside the function)\n",
    "def anki():\n",
    "    a=15              # Local value (inside the function)\n",
    "    print(\"local\",a)\n",
    "anki()\n",
    "print(\"global\",a)\n",
    "    \n",
    "    "
   ]
  },
  {
   "cell_type": "code",
   "execution_count": 32,
   "id": "standing-official",
   "metadata": {},
   "outputs": [
    {
     "name": "stdout",
     "output_type": "stream",
     "text": [
      "local 15\n",
      "global 20\n"
     ]
    }
   ],
   "source": [
    "a=10\n",
    "def anki():\n",
    "    a=15\n",
    "    globals()['a']= 20          # it is used to change the value of global within a function\n",
    "    print(\"local\",a)\n",
    "anki()\n",
    "print(\"global\",a)\n",
    "    \n",
    "    "
   ]
  },
  {
   "cell_type": "markdown",
   "id": "american-offset",
   "metadata": {},
   "source": []
  },
  {
   "cell_type": "code",
   "execution_count": 62,
   "id": "surprising-beaver",
   "metadata": {},
   "outputs": [
    {
     "name": "stdout",
     "output_type": "stream",
     "text": [
      "Even:3 and Odd:5\n"
     ]
    }
   ],
   "source": [
    "\n",
    "def count(lst):\n",
    "    even=0\n",
    "    odd=0\n",
    "    for i in lst:\n",
    "        if i%2==0:\n",
    "            even+=1\n",
    "        else:\n",
    "            odd+=1\n",
    "    return even,odd \n",
    "lst=[12,13,14,15,1,5,5,6]\n",
    "even,odd= count(lst)\n",
    "print(\"Even:{} and Odd:{}\".format(even,odd))\n",
    "\n"
   ]
  },
  {
   "cell_type": "code",
   "execution_count": 68,
   "id": "interested-turner",
   "metadata": {},
   "outputs": [
    {
     "name": "stdout",
     "output_type": "stream",
     "text": [
      "0\n",
      "1\n",
      "1\n",
      "2\n",
      "3\n",
      "5\n",
      "8\n"
     ]
    }
   ],
   "source": [
    "# Fibonacci Series\n",
    "def fib(n):\n",
    "    a=0\n",
    "    b=1\n",
    "    if n==1:\n",
    "        print(a)\n",
    "    else:\n",
    "        print(a)\n",
    "        print(b)\n",
    "        for i in range(2,n):\n",
    "            c=a+b\n",
    "            a=b\n",
    "            b=c\n",
    "            print(c)\n",
    "fib(7)        \n",
    "        "
   ]
  },
  {
   "cell_type": "code",
   "execution_count": 77,
   "id": "velvet-metallic",
   "metadata": {},
   "outputs": [
    {
     "name": "stdout",
     "output_type": "stream",
     "text": [
      "120\n"
     ]
    }
   ],
   "source": [
    "# Factorial no.\n",
    "def fac(i):\n",
    "    f=1\n",
    "    for n in range(1,i+1):\n",
    "        f=f*n\n",
    "    return f\n",
    "x=5\n",
    "result=fac(x)\n",
    "print(result)"
   ]
  },
  {
   "cell_type": "code",
   "execution_count": 84,
   "id": "optimum-evans",
   "metadata": {},
   "outputs": [
    {
     "data": {
      "text/plain": [
       "24"
      ]
     },
     "execution_count": 84,
     "metadata": {},
     "output_type": "execute_result"
    }
   ],
   "source": [
    "def fac(i):\n",
    "    if i==0:\n",
    "        return 1      # finding factorial by recursiom\n",
    "    return i*fac(i-1)\n",
    "result=fac(4)\n",
    "result"
   ]
  },
  {
   "cell_type": "code",
   "execution_count": 86,
   "id": "adapted-quantity",
   "metadata": {},
   "outputs": [
    {
     "data": {
      "text/plain": [
       "16"
      ]
     },
     "execution_count": 86,
     "metadata": {},
     "output_type": "execute_result"
    }
   ],
   "source": [
    "# Anonymous function (lambda)\n",
    "f=lambda a,b:a+b              # define the function does not having a function name\n",
    "result=f(5,11)\n",
    "result"
   ]
  },
  {
   "cell_type": "code",
   "execution_count": 90,
   "id": "empirical-photographer",
   "metadata": {},
   "outputs": [
    {
     "name": "stdout",
     "output_type": "stream",
     "text": [
      "enter the size of list 5\n",
      "enter the next string 14\n",
      "enter the next string 24\n",
      "enter the next string 35\n",
      "enter the next string 36\n",
      "enter the next string 47\n",
      "[14, 24, 35, 36, 47]\n",
      "Even:3 and Odd:2\n"
     ]
    }
   ],
   "source": [
    "def count(lst):\n",
    "    even=0\n",
    "    odd=0\n",
    "    for i in lst:\n",
    "        if i%2==0:\n",
    "            even+=1\n",
    "        else:\n",
    "            odd+=1\n",
    "    return even,odd \n",
    "lst=[]\n",
    "n = int(input(\"enter the size of list \"))\n",
    "for j in range(n):\n",
    "    x=int(input(\"enter the next string \"))\n",
    "    lst.append(x)\n",
    "print(lst)    \n",
    "even,odd= count(lst)\n",
    "print(\"Even:{} and Odd:{}\".format(even,odd))\n"
   ]
  },
  {
   "cell_type": "code",
   "execution_count": 25,
   "id": "possible-track",
   "metadata": {},
   "outputs": [],
   "source": [
    "# Creating File\n",
    "f = open(\"ankit.txt\",'a') # in W = write overwrite occur so we use a = append\n",
    "def fac(i):\n",
    "    f=1\n",
    "    for n in range(1,i+1):\n",
    "        f=f*n\n",
    "    return f\n",
    "x=5\n",
    "result=fac(x)\n",
    "print(result,file=f)  # print the output of factorial in file\n",
    "f.close()"
   ]
  },
  {
   "cell_type": "code",
   "execution_count": 31,
   "id": "changing-fiction",
   "metadata": {},
   "outputs": [
    {
     "name": "stdout",
     "output_type": "stream",
     "text": [
      "enter the size of list 5\n",
      "enter the next string 23\n",
      "enter the next string 44\n",
      "enter the next string 23\n",
      "enter the next string 11\n",
      "enter the next string 10\n"
     ]
    }
   ],
   "source": [
    "# print the output in file\n",
    "f = open(\"ankit.txt\",'a') # in W = write overwrite occur so we use a = append\n",
    "def count(lst):\n",
    "    even=0\n",
    "    odd=0\n",
    "    for i in lst:\n",
    "        if i%2==0:\n",
    "            even+=1\n",
    "        else:\n",
    "            odd+=1\n",
    "    return even,odd \n",
    "lst=[]\n",
    "n = int(input(\"enter the size of list \"))\n",
    "for j in range(n):\n",
    "    x=int(input(\"enter the next string \"))\n",
    "    lst.append(x)\n",
    "print(lst,file=f)    \n",
    "even,odd= count(lst)\n",
    "print(\"Even:{} and Odd:{}\".format(even,odd),file=f)\n",
    "f.close()"
   ]
  },
  {
   "cell_type": "code",
   "execution_count": 27,
   "id": "successful-jackson",
   "metadata": {},
   "outputs": [
    {
     "name": "stdout",
     "output_type": "stream",
     "text": [
      "enter the no. od data in a list3\n",
      "Enter the no. in a string18\n",
      "Enter the no. in a string94\n",
      "Enter the no. in a string36\n",
      "[18, 94, 36]\n"
     ]
    }
   ],
   "source": [
    "list=[]\n",
    "n=int(input(\"enter the no. od data in a list\"))\n",
    "for i in range(n):\n",
    "    x=int(input(\"Enter the no. in a string\"))\n",
    "    list.append(x)\n",
    "print(list)    "
   ]
  },
  {
   "cell_type": "markdown",
   "id": "supposed-alaska",
   "metadata": {},
   "source": [
    "    "
   ]
  },
  {
   "cell_type": "markdown",
   "id": "transparent-cement",
   "metadata": {},
   "source": [
    "\n"
   ]
  },
  {
   "cell_type": "code",
   "execution_count": null,
   "id": "legal-contents",
   "metadata": {},
   "outputs": [],
   "source": [
    "f=open(\"ankit.txt\",'a')\n"
   ]
  },
  {
   "cell_type": "code",
   "execution_count": 5,
   "id": "higher-fleece",
   "metadata": {},
   "outputs": [
    {
     "data": {
      "text/plain": [
       "[4, 12, 16, 8, 20]"
      ]
     },
     "execution_count": 5,
     "metadata": {},
     "output_type": "execute_result"
    }
   ],
   "source": [
    "nums = [2,3,6,8,4,10]\n",
    "even = list(filter(lambda n : n%2==0 ,nums))   # filter function\n",
    "even\n",
    "double=list(map(lambda a : a*2,even))  # map function\n",
    "double"
   ]
  },
  {
   "cell_type": "code",
   "execution_count": 9,
   "id": "welsh-newton",
   "metadata": {},
   "outputs": [
    {
     "name": "stdout",
     "output_type": "stream",
     "text": [
      "2.0\n"
     ]
    }
   ],
   "source": [
    "# Decorator\n",
    "def div(a,b):\n",
    "    print(a/b)                   \n",
    "def smart_div(func):          # Decorator means assigning multiple functions inside a function\n",
    "    def inner(a,b):\n",
    "        if a<b:\n",
    "            a,b=b,a\n",
    "        return func(a,b)\n",
    "    return inner\n",
    "div1= smart_div(div)    # link two functions\n",
    "div1(2,4)"
   ]
  },
  {
   "cell_type": "code",
   "execution_count": 64,
   "id": "cleared-surprise",
   "metadata": {},
   "outputs": [
    {
     "name": "stdout",
     "output_type": "stream",
     "text": [
      "27 25.0\n"
     ]
    }
   ],
   "source": [
    "# Module\n",
    "from calcu import *  # import from calcu.py file\n",
    "sum=add(10,17)\n",
    "divi=div(50,2)\n",
    "print(sum,divi)"
   ]
  },
  {
   "cell_type": "code",
   "execution_count": 2,
   "id": "imported-florist",
   "metadata": {},
   "outputs": [
    {
     "name": "stdout",
     "output_type": "stream",
     "text": [
      "i5,16gb,1TB\n"
     ]
    }
   ],
   "source": [
    "class computer:        # defining a class\n",
    "    def config(self):  # self is default used in class\n",
    "        print(\"i5,16gb,1TB\")\n",
    "com1=computer()\n",
    "com1.config()"
   ]
  },
  {
   "cell_type": "code",
   "execution_count": 8,
   "id": "electric-dealer",
   "metadata": {},
   "outputs": [
    {
     "name": "stdout",
     "output_type": "stream",
     "text": [
      "config is i5 16\n",
      "config is i7 8\n"
     ]
    }
   ],
   "source": [
    "class compu:\n",
    "    def __init__(self,cpu,ram):    # in __init__ method it was automatically call during run time\n",
    "        self.cpu=cpu\n",
    "        self.ram=ram               \n",
    "    def config(self):               # in config we were call the config for execution\n",
    "        print(\"config is\",self.cpu,self.ram)\n",
    "com1=compu('i5',16)\n",
    "com2=compu('i7',8)\n",
    "com1.config()\n",
    "com2.config()"
   ]
  },
  {
   "cell_type": "code",
   "execution_count": 26,
   "id": "distributed-median",
   "metadata": {},
   "outputs": [
    {
     "name": "stdout",
     "output_type": "stream",
     "text": [
      "Audi 8 Blue\n"
     ]
    }
   ],
   "source": [
    "class car:\n",
    "    Colour=\"RED\"           # class or static variable\n",
    "    def __init__(self):\n",
    "        self.mil=10        # instance variable\n",
    "        self.com=\"Audi\"    # instance variable\n",
    "c1=car()\n",
    "c1.mil=8\n",
    "car.Colour=\"Blue\"\n",
    "print(c1.com,c1.mil,c1.Colour)"
   ]
  },
  {
   "cell_type": "code",
   "execution_count": 38,
   "id": "sudden-white",
   "metadata": {},
   "outputs": [
    {
     "data": {
      "text/plain": [
       "26.666666666666668"
      ]
     },
     "execution_count": 38,
     "metadata": {},
     "output_type": "execute_result"
    }
   ],
   "source": [
    "class student:\n",
    "    school=\"Modern\"\n",
    "    def __init__(self,m1,m2,m3):\n",
    "        self.m1=m1\n",
    "        self.m2=m2\n",
    "        self.m3=m3\n",
    "    def avg(self):         # instance method\n",
    "        return(self.m1+self.m2+self.m3)/3\n",
    "s1=student(12,23,45)\n",
    "s1.avg()\n",
    "    "
   ]
  },
  {
   "cell_type": "code",
   "execution_count": null,
   "id": "consecutive-migration",
   "metadata": {},
   "outputs": [],
   "source": [
    "# two types of instance method : 1. Accessor method     2. Mutator method\n",
    "\n",
    "    # def get_m1(self):       \\\\ Accessor method (get the value)\n",
    "        return self.m1\n",
    "    # def set_m1(self,value)   \\\\ Mutator method (set the value)\n",
    "        self.m1=value\n",
    "    "
   ]
  },
  {
   "cell_type": "code",
   "execution_count": 54,
   "id": "planned-correspondence",
   "metadata": {},
   "outputs": [
    {
     "name": "stdout",
     "output_type": "stream",
     "text": [
      "Modern\n"
     ]
    }
   ],
   "source": [
    "class student:\n",
    "    school=\"Modern\"\n",
    "    def __init__(self,m1,m2,m3):\n",
    "        self.m1=m1\n",
    "        self.m2=m2\n",
    "        self.m3=m3\n",
    "    @classmethod      # Decorator\n",
    "    def getinfo(cls):     # Class Method\n",
    "        return cls.school\n",
    "print(student.getinfo())    "
   ]
  },
  {
   "cell_type": "markdown",
   "id": "functional-communist",
   "metadata": {},
   "source": []
  },
  {
   "cell_type": "code",
   "execution_count": 55,
   "id": "renewable-passport",
   "metadata": {},
   "outputs": [
    {
     "name": "stdout",
     "output_type": "stream",
     "text": [
      "This is Student class\n"
     ]
    }
   ],
   "source": [
    "class student:\n",
    "    school=\"Modern\"\n",
    "    def __init__(self,m1,m2,m3):\n",
    "        self.m1=m1\n",
    "        self.m2=m2\n",
    "        self.m3=m3\n",
    "    @staticmethod    # Decorator\n",
    "    def info():              # Static Method\n",
    "        print(\"This is Student class\")\n",
    "student.info()    "
   ]
  },
  {
   "cell_type": "code",
   "execution_count": 60,
   "id": "parallel-litigation",
   "metadata": {},
   "outputs": [
    {
     "name": "stdout",
     "output_type": "stream",
     "text": [
      "Ankit 21\n",
      "HP 16 i5\n"
     ]
    }
   ],
   "source": [
    "class student:                         # Outer class\n",
    "    def __init__(self,name,rollno):\n",
    "        self.name= name\n",
    "        self.rollno= rollno\n",
    "        self.lap= self.laptop()\n",
    "    def show(self):\n",
    "        print(self.name,self.rollno)\n",
    "        self.lap.show()\n",
    "    class laptop:                       # Inner class\n",
    "        def __init__(self):\n",
    "            self.brand= \"HP\"\n",
    "            self.ram= 16\n",
    "            self.cpu=\"i5\"\n",
    "        def show(self):\n",
    "            print(self.brand,self.ram,self.cpu)\n",
    "s1=student(\"Ankit\",21)\n",
    "s1.show()\n",
    "        \n",
    "        \n",
    "    "
   ]
  },
  {
   "cell_type": "code",
   "execution_count": 63,
   "id": "discrete-jacket",
   "metadata": {},
   "outputs": [
    {
     "name": "stdout",
     "output_type": "stream",
     "text": [
      "56\n"
     ]
    }
   ],
   "source": [
    "a,b='5','6'\n",
    "print(str.__add__(a,b))            # print(a+b)"
   ]
  },
  {
   "cell_type": "code",
   "execution_count": 69,
   "id": "competitive-conducting",
   "metadata": {},
   "outputs": [
    {
     "name": "stdout",
     "output_type": "stream",
     "text": [
      "12\n",
      "13\n",
      "14\n",
      "15\n"
     ]
    }
   ],
   "source": [
    "# Iterator (it is used for fetching onebvalue at a time)\n",
    "nums=[12,13,14,15]\n",
    "it=iter(nums)         # iter = iteration\n",
    "print(it.__next__())\n",
    "print(next(it))\n",
    "print(next(it))\n",
    "print(it.__next__())"
   ]
  },
  {
   "cell_type": "code",
   "execution_count": 70,
   "id": "relevant-majority",
   "metadata": {},
   "outputs": [
    {
     "name": "stdout",
     "output_type": "stream",
     "text": [
      "1\n",
      "4\n",
      "9\n",
      "16\n",
      "25\n",
      "36\n",
      "49\n",
      "64\n",
      "81\n",
      "100\n"
     ]
    }
   ],
   "source": [
    "# Generator Function\n",
    "def topten():\n",
    "    n=1\n",
    "    while n<=10:\n",
    "        sq=n*n\n",
    "        yield sq     # yield is the special keyword of Generator function\n",
    "        n+=1\n",
    "values=topten()\n",
    "for i in values:\n",
    "    print(i)"
   ]
  },
  {
   "cell_type": "code",
   "execution_count": 19,
   "id": "alternative-indonesian",
   "metadata": {},
   "outputs": [
    {
     "name": "stdout",
     "output_type": "stream",
     "text": [
      "0.0\n",
      "output is came\n"
     ]
    }
   ],
   "source": [
    "# Exception\n",
    "a=0\n",
    "b=1\n",
    "try:\n",
    "    print(a/b)\n",
    "except Exception as d:\n",
    "    print(\"No no. is divided by zero\",d)\n",
    "finally:\n",
    "    print(\"output is came\")\n",
    "    "
   ]
  },
  {
   "cell_type": "code",
   "execution_count": 3,
   "id": "random-permit",
   "metadata": {},
   "outputs": [
    {
     "name": "stdout",
     "output_type": "stream",
     "text": [
      "Hello\n",
      "Hello\n",
      "Hello\n",
      "Hello\n",
      "Hello\n",
      "Ankit\n",
      "Ankit\n",
      "Ankit\n",
      "Ankit\n",
      "Ankit\n"
     ]
    }
   ],
   "source": [
    "# Main Threads\n",
    "class hello:\n",
    "    def run(self):\n",
    "        for i in range(5):\n",
    "            print(\"Hello\")\n",
    "class Ankit:\n",
    "    def run(self):\n",
    "        for i in range(5):\n",
    "            print(\"Ankit\")\n",
    "a=hello()        \n",
    "b=Ankit()\n",
    "a.run()\n",
    "b.run()"
   ]
  },
  {
   "cell_type": "code",
   "execution_count": 4,
   "id": "polish-visiting",
   "metadata": {},
   "outputs": [
    {
     "name": "stdout",
     "output_type": "stream",
     "text": [
      "Hello\n",
      "Ankit\n",
      "Hello\n",
      "Ankit\n",
      "Hello\n",
      "Ankit\n",
      "Hello\n",
      "Ankit\n",
      "Hello\n",
      "Ankit\n"
     ]
    }
   ],
   "source": [
    "# Threads\n",
    "from time import sleep\n",
    "from threading import *\n",
    "class hello(Thread):\n",
    "    def run(self):\n",
    "        for i in range(5):\n",
    "            print(\"Hello\")\n",
    "            sleep(1)\n",
    "class Ankit(Thread):\n",
    "    def run(self):           # run function is mention compelsary for threading\n",
    "        for i in range(5):\n",
    "            print(\"Ankit\")\n",
    "            sleep(1)\n",
    "a=hello()        \n",
    "b=Ankit()\n",
    "a.start()          # in threading we use \"\".start\" function in which\n",
    "sleep(0.5)\n",
    "b.start()\n"
   ]
  },
  {
   "cell_type": "code",
   "execution_count": 38,
   "id": "confused-minority",
   "metadata": {},
   "outputs": [
    {
     "name": "stdout",
     "output_type": "stream",
     "text": [
      " *\n",
      " * *\n",
      " * * *\n",
      " * * * *\n",
      " * * * *\n",
      " * * *\n",
      " * *\n",
      " *\n"
     ]
    }
   ],
   "source": [
    "\n",
    "class hello():\n",
    "    def run(self):\n",
    "        for i in range(4):\n",
    "            j=1\n",
    "            for j in range(i+1):\n",
    "                print(\" *\",end=\"\")  \n",
    "            print()\n",
    "        \n",
    "class Ankit():\n",
    "    def run(self):\n",
    "        for i in range(4):\n",
    "            j=4\n",
    "            for j in range(4-i):\n",
    "                print(\" *\",end=\"\")\n",
    "            print()    \n",
    "                      \n",
    "a=hello()        \n",
    "b=Ankit()\n",
    "a.run()         \n",
    "b.run()"
   ]
  },
  {
   "cell_type": "code",
   "execution_count": 44,
   "id": "raising-spray",
   "metadata": {},
   "outputs": [
    {
     "name": "stdout",
     "output_type": "stream",
     "text": [
      " *\n",
      " * * * *\n",
      " * *\n",
      " * * *\n",
      " * * *\n",
      " * *\n",
      " * * * *\n",
      " *\n"
     ]
    }
   ],
   "source": [
    "from time import sleep\n",
    "from threading import *\n",
    "class hello(Thread):\n",
    "    def run(self):\n",
    "        for i in range(4):\n",
    "            j=1\n",
    "            for j in range(i+1):\n",
    "                print(\" *\",end=\"\") \n",
    "                \n",
    "            print()\n",
    "            sleep(1)\n",
    "            \n",
    "        \n",
    "class Ankit(Thread):\n",
    "    def run(self):\n",
    "        for i in range(4):\n",
    "            j=4\n",
    "            for j in range(4-i):\n",
    "                print(\" *\",end=\"\")\n",
    "                \n",
    "            print()\n",
    "            sleep(1)\n",
    "            \n",
    "                      \n",
    "a=hello()        \n",
    "b=Ankit()\n",
    "a.start()          # in threading we use \"\".start\" function in which\n",
    "sleep(0.5)\n",
    "b.start()"
   ]
  },
  {
   "cell_type": "code",
   "execution_count": 47,
   "id": "alien-disposal",
   "metadata": {},
   "outputs": [
    {
     "name": "stdout",
     "output_type": "stream",
     "text": [
      " *\n",
      " * * * *\n",
      " * *\n",
      " * * *\n",
      " * * *\n",
      " * *\n",
      " * * * *\n",
      " *\n",
      "Byee\n"
     ]
    }
   ],
   "source": [
    "from time import sleep\n",
    "from threading import *\n",
    "class hello(Thread):\n",
    "    def run(self):\n",
    "        for i in range(4):\n",
    "            j=1\n",
    "            for j in range(i+1):\n",
    "                print(\" *\",end=\"\") \n",
    "                \n",
    "            print()\n",
    "            sleep(1)\n",
    "            \n",
    "        \n",
    "class Ankit(Thread):\n",
    "    def run(self):\n",
    "        for i in range(4):\n",
    "            j=4\n",
    "            for j in range(4-i):\n",
    "                print(\" *\",end=\"\")\n",
    "                \n",
    "            print()\n",
    "            sleep(1)\n",
    "            \n",
    "                      \n",
    "a=hello()        \n",
    "b=Ankit()\n",
    "a.start()          # in threading we use \"\".start\" function in which\n",
    "sleep(0.5)\n",
    "b.start()\n",
    "a.join()          # join is used for asking the main thread to wait until a & b executed\n",
    "b.join()\n",
    "print(\"Byee\")"
   ]
  },
  {
   "cell_type": "code",
   "execution_count": 54,
   "id": "injured-russell",
   "metadata": {},
   "outputs": [
    {
     "data": {
      "text/plain": [
       "'#!/usr/bin/env python\\n'"
      ]
     },
     "execution_count": 54,
     "metadata": {},
     "output_type": "execute_result"
    }
   ],
   "source": [
    "f=open(\"calcu.py\",'r')\n",
    "f.readline()"
   ]
  },
  {
   "cell_type": "code",
   "execution_count": 75,
   "id": "blocked-redhead",
   "metadata": {},
   "outputs": [
    {
     "data": {
      "text/plain": [
       "' the size of list [14, 24, 35, 36, 47] Even:3 and Odd:2, 10]\\n'"
      ]
     },
     "execution_count": 75,
     "metadata": {},
     "output_type": "execute_result"
    }
   ],
   "source": [
    "f=open(\"ankit.txt\",'r')\n",
    "f.readline()\n",
    "f.readline()"
   ]
  },
  {
   "cell_type": "code",
   "execution_count": 60,
   "id": "saved-thermal",
   "metadata": {},
   "outputs": [],
   "source": [
    "f=open(\"ankit.txt\",'r')\n",
    "f1=open(\"calcu.py\",'a')          # extracting data from file and write in another file\n",
    "for i in f:\n",
    "    f1.write(i)\n",
    "    "
   ]
  },
  {
   "cell_type": "code",
   "execution_count": null,
   "id": "negative-addiction",
   "metadata": {},
   "outputs": [],
   "source": []
  },
  {
   "cell_type": "code",
   "execution_count": null,
   "id": "unlikely-necklace",
   "metadata": {},
   "outputs": [],
   "source": []
  },
  {
   "cell_type": "code",
   "execution_count": null,
   "id": "charitable-cornell",
   "metadata": {},
   "outputs": [],
   "source": []
  },
  {
   "cell_type": "code",
   "execution_count": null,
   "id": "successful-repeat",
   "metadata": {},
   "outputs": [],
   "source": []
  },
  {
   "cell_type": "code",
   "execution_count": null,
   "id": "major-health",
   "metadata": {},
   "outputs": [],
   "source": []
  },
  {
   "cell_type": "code",
   "execution_count": null,
   "id": "competitive-symphony",
   "metadata": {},
   "outputs": [],
   "source": []
  },
  {
   "cell_type": "code",
   "execution_count": null,
   "id": "collective-sister",
   "metadata": {},
   "outputs": [],
   "source": []
  },
  {
   "cell_type": "code",
   "execution_count": null,
   "id": "blond-sherman",
   "metadata": {},
   "outputs": [],
   "source": []
  },
  {
   "cell_type": "code",
   "execution_count": null,
   "id": "adaptive-sphere",
   "metadata": {},
   "outputs": [],
   "source": []
  },
  {
   "cell_type": "code",
   "execution_count": null,
   "id": "executed-length",
   "metadata": {},
   "outputs": [],
   "source": []
  }
 ],
 "metadata": {
  "kernelspec": {
   "display_name": "Python 3.8.8 ('base')",
   "language": "python",
   "name": "python3"
  },
  "language_info": {
   "codemirror_mode": {
    "name": "ipython",
    "version": 3
   },
   "file_extension": ".py",
   "mimetype": "text/x-python",
   "name": "python",
   "nbconvert_exporter": "python",
   "pygments_lexer": "ipython3",
   "version": "3.8.8"
  },
  "vscode": {
   "interpreter": {
    "hash": "2e3f33852672ac4a073d79af74b37fc9961212be18150672fcb2b3607e50fc72"
   }
  }
 },
 "nbformat": 4,
 "nbformat_minor": 5
}
