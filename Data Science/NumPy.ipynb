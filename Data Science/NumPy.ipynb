{
 "cells": [
  {
   "cell_type": "code",
   "execution_count": 2,
   "id": "044c8e89",
   "metadata": {},
   "outputs": [
    {
     "name": "stdout",
     "output_type": "stream",
     "text": [
      "[1 2 3 4 5]\n"
     ]
    }
   ],
   "source": [
    "import numpy as np\n",
    "a=np.array([1,2,3,4,5])\n",
    "print(a)"
   ]
  },
  {
   "cell_type": "code",
   "execution_count": 17,
   "id": "d05f1ec5",
   "metadata": {},
   "outputs": [
    {
     "name": "stdout",
     "output_type": "stream",
     "text": [
      "[[1 2 3 4 5]\n",
      " [5 6 7 8 9]]\n"
     ]
    }
   ],
   "source": [
    "b=np.array([[1,2,3,4,5],[5,6,7,8,9]])\n",
    "print(b)"
   ]
  },
  {
   "cell_type": "code",
   "execution_count": 18,
   "id": "9c35a89b",
   "metadata": {},
   "outputs": [
    {
     "data": {
      "text/plain": [
       "(2, 5)"
      ]
     },
     "execution_count": 18,
     "metadata": {},
     "output_type": "execute_result"
    }
   ],
   "source": [
    "# getting shape\n",
    "b.shape"
   ]
  },
  {
   "cell_type": "code",
   "execution_count": 11,
   "id": "1a11538c",
   "metadata": {},
   "outputs": [
    {
     "data": {
      "text/plain": [
       "dtype('int32')"
      ]
     },
     "execution_count": 11,
     "metadata": {},
     "output_type": "execute_result"
    }
   ],
   "source": [
    "# Getting type\n",
    "a.dtype    # dtype is data type"
   ]
  },
  {
   "cell_type": "code",
   "execution_count": 19,
   "id": "ebabe11f",
   "metadata": {},
   "outputs": [
    {
     "data": {
      "text/plain": [
       "2"
      ]
     },
     "execution_count": 19,
     "metadata": {},
     "output_type": "execute_result"
    }
   ],
   "source": [
    "# Getting Dimension\n",
    "b.ndim"
   ]
  },
  {
   "cell_type": "code",
   "execution_count": 21,
   "id": "4dd88560",
   "metadata": {},
   "outputs": [
    {
     "data": {
      "text/plain": [
       "4"
      ]
     },
     "execution_count": 21,
     "metadata": {},
     "output_type": "execute_result"
    }
   ],
   "source": [
    "# Getting size\n",
    "a.itemsize"
   ]
  },
  {
   "cell_type": "code",
   "execution_count": 24,
   "id": "9c072a58",
   "metadata": {},
   "outputs": [
    {
     "data": {
      "text/plain": [
       "40"
      ]
     },
     "execution_count": 24,
     "metadata": {},
     "output_type": "execute_result"
    }
   ],
   "source": [
    "# Getting total size\n",
    "b.nbytes   # size in bytes"
   ]
  },
  {
   "cell_type": "code",
   "execution_count": 30,
   "id": "ce5764f0",
   "metadata": {},
   "outputs": [
    {
     "data": {
      "text/plain": [
       "10"
      ]
     },
     "execution_count": 30,
     "metadata": {},
     "output_type": "execute_result"
    }
   ],
   "source": [
    "# Getting specific element [r,c]\n",
    "a=np.array([[1,2,3,4,5,6,7],[8,9,10,11,12,13,14]])\n",
    "a[1,2]                 # getting data from matrix \n",
    "\n"
   ]
  },
  {
   "cell_type": "code",
   "execution_count": 31,
   "id": "a01ed56b",
   "metadata": {},
   "outputs": [
    {
     "data": {
      "text/plain": [
       "array([ 8,  9, 10, 11, 12, 13, 14])"
      ]
     },
     "execution_count": 31,
     "metadata": {},
     "output_type": "execute_result"
    }
   ],
   "source": [
    "# Getting specific row\n",
    "a[1,:]       # (1,:) all data from 1st row"
   ]
  },
  {
   "cell_type": "code",
   "execution_count": 32,
   "id": "a679e78b",
   "metadata": {},
   "outputs": [
    {
     "data": {
      "text/plain": [
       "array([ 3, 10])"
      ]
     },
     "execution_count": 32,
     "metadata": {},
     "output_type": "execute_result"
    }
   ],
   "source": [
    "# Getting specific column\n",
    "a[:,2]       # (:,1) all data from 1st column"
   ]
  },
  {
   "cell_type": "code",
   "execution_count": 36,
   "id": "69625c31",
   "metadata": {},
   "outputs": [
    {
     "data": {
      "text/plain": [
       "array([ 9, 11])"
      ]
     },
     "execution_count": 36,
     "metadata": {},
     "output_type": "execute_result"
    }
   ],
   "source": [
    "# getting more fancy (start inde: end index: step size)\n",
    "a[1,1:5:2]      "
   ]
  },
  {
   "cell_type": "code",
   "execution_count": 45,
   "id": "42fe845b",
   "metadata": {},
   "outputs": [
    {
     "name": "stdout",
     "output_type": "stream",
     "text": [
      "[[  1   2   3   4 999   6   7]\n",
      " [  8 100 100 100 100  13  14]]\n"
     ]
    }
   ],
   "source": [
    "# Changing value from array\n",
    "a[0,4]=999\n",
    "print(a)"
   ]
  },
  {
   "cell_type": "code",
   "execution_count": 47,
   "id": "6556efd9",
   "metadata": {},
   "outputs": [
    {
     "name": "stdout",
     "output_type": "stream",
     "text": [
      "[[[ 1  2  3  4]\n",
      "  [ 5  6  7  8]]\n",
      "\n",
      " [[ 9 10 11 12]\n",
      "  [13 14 15 16]]]\n"
     ]
    }
   ],
   "source": [
    "# 3-D Array\n",
    "x=np.array([[[1,2,3,4],[5,6,7,8]],[[9,10,11,12],[13,14,15,16]]])\n",
    "print(x)"
   ]
  },
  {
   "cell_type": "code",
   "execution_count": 50,
   "id": "0a9761c8",
   "metadata": {},
   "outputs": [
    {
     "data": {
      "text/plain": [
       "array([[ 5,  6,  7,  8],\n",
       "       [13, 14, 15, 16]])"
      ]
     },
     "execution_count": 50,
     "metadata": {},
     "output_type": "execute_result"
    }
   ],
   "source": [
    "# getting specific element\n",
    "x[:,1,:]                "
   ]
  },
  {
   "cell_type": "code",
   "execution_count": 56,
   "id": "672996d1",
   "metadata": {},
   "outputs": [
    {
     "name": "stdout",
     "output_type": "stream",
     "text": [
      "[[[111 222 333 444]\n",
      "  [111 222 333 444]]\n",
      "\n",
      " [[555 666 777 888]\n",
      "  [555 666 777 888]]]\n"
     ]
    }
   ],
   "source": [
    "# Replace\n",
    "x[:,1,:]= [[111,222,333,444],[555,666,777,888]]\n",
    "print(x)"
   ]
  },
  {
   "cell_type": "code",
   "execution_count": 85,
   "id": "6e2f57c6",
   "metadata": {},
   "outputs": [
    {
     "data": {
      "text/plain": [
       "array([[[1., 1., 1., 1.],\n",
       "        [1., 1., 1., 1.],\n",
       "        [1., 1., 1., 1.]],\n",
       "\n",
       "       [[1., 1., 1., 1.],\n",
       "        [1., 1., 1., 1.],\n",
       "        [1., 1., 1., 1.]]])"
      ]
     },
     "execution_count": 85,
     "metadata": {},
     "output_type": "execute_result"
    }
   ],
   "source": [
    "# all ones matrix\n",
    "np.ones((2,3,4))"
   ]
  },
  {
   "cell_type": "code",
   "execution_count": 159,
   "id": "7ab678c7",
   "metadata": {},
   "outputs": [
    {
     "data": {
      "text/plain": [
       "array([[1., 1., 1., 1.],\n",
       "       [1., 1., 1., 1.],\n",
       "       [1., 1., 1., 1.]])"
      ]
     },
     "execution_count": 159,
     "metadata": {},
     "output_type": "execute_result"
    }
   ],
   "source": [
    "np.ones((3,4))"
   ]
  },
  {
   "cell_type": "code",
   "execution_count": 83,
   "id": "8e912b62",
   "metadata": {},
   "outputs": [
    {
     "data": {
      "text/plain": [
       "array([[0., 0., 0.],\n",
       "       [0., 0., 0.]])"
      ]
     },
     "execution_count": 83,
     "metadata": {},
     "output_type": "execute_result"
    }
   ],
   "source": [
    "# all zeroes matrix\n",
    "np.zeros((2,3))"
   ]
  },
  {
   "cell_type": "code",
   "execution_count": 75,
   "id": "4251af1d",
   "metadata": {},
   "outputs": [
    {
     "data": {
      "text/plain": [
       "array([[111, 111, 111],\n",
       "       [111, 111, 111]])"
      ]
     },
     "execution_count": 75,
     "metadata": {},
     "output_type": "execute_result"
    }
   ],
   "source": [
    "# any other no. in matrix form\n",
    "np.full((2,3),111)"
   ]
  },
  {
   "cell_type": "code",
   "execution_count": 81,
   "id": "9598db19",
   "metadata": {},
   "outputs": [
    {
     "data": {
      "text/plain": [
       "array([[0.61083949, 0.93019277, 0.8956923 ],\n",
       "       [0.20702871, 0.2101077 , 0.49691317]])"
      ]
     },
     "execution_count": 81,
     "metadata": {},
     "output_type": "execute_result"
    }
   ],
   "source": [
    "# random decimal no.\n",
    "np.random.rand(2,3)"
   ]
  },
  {
   "cell_type": "code",
   "execution_count": 86,
   "id": "f617217e",
   "metadata": {},
   "outputs": [
    {
     "data": {
      "text/plain": [
       "array([[[0.2870592 , 0.3967275 , 0.09580018, 0.83634489],\n",
       "        [0.03861732, 0.09895286, 0.56605801, 0.54011062]],\n",
       "\n",
       "       [[0.29412969, 0.7989034 , 0.46848056, 0.85999161],\n",
       "        [0.40021811, 0.41053003, 0.99144058, 0.63245839]]])"
      ]
     },
     "execution_count": 86,
     "metadata": {},
     "output_type": "execute_result"
    }
   ],
   "source": [
    "np.random.random_sample(x.shape)               # getting matrix size of x as a sample"
   ]
  },
  {
   "cell_type": "code",
   "execution_count": 89,
   "id": "ad527de4",
   "metadata": {},
   "outputs": [
    {
     "data": {
      "text/plain": [
       "array([[1., 0., 0., 0.],\n",
       "       [0., 1., 0., 0.],\n",
       "       [0., 0., 1., 0.],\n",
       "       [0., 0., 0., 1.]])"
      ]
     },
     "execution_count": 89,
     "metadata": {},
     "output_type": "execute_result"
    }
   ],
   "source": [
    "# Identity matrix\n",
    "np.identity(4)"
   ]
  },
  {
   "cell_type": "markdown",
   "id": "7af0f0cc",
   "metadata": {},
   "source": []
  },
  {
   "cell_type": "code",
   "execution_count": 105,
   "id": "a4dc5a36",
   "metadata": {},
   "outputs": [
    {
     "name": "stdout",
     "output_type": "stream",
     "text": [
      "[[1 2 3]\n",
      " [1 2 3]\n",
      " [1 2 3]]\n"
     ]
    }
   ],
   "source": [
    "# Repeat an array\n",
    "a=np.array([[1,2,3]])\n",
    "r=np.repeat(a,3,axis=0)\n",
    "print(r)"
   ]
  },
  {
   "cell_type": "code",
   "execution_count": 106,
   "id": "84928d9e",
   "metadata": {},
   "outputs": [
    {
     "name": "stdout",
     "output_type": "stream",
     "text": [
      "[1 1 1 1 2 2 2 2 3 3 3 3]\n"
     ]
    }
   ],
   "source": [
    "a=np.array([1,2,3])\n",
    "r=np.repeat(a,4,axis=0)\n",
    "print(r)"
   ]
  },
  {
   "cell_type": "code",
   "execution_count": 111,
   "id": "956663ef",
   "metadata": {},
   "outputs": [
    {
     "name": "stdout",
     "output_type": "stream",
     "text": [
      "[[1 1 1 2 2 2 3 3 3]]\n"
     ]
    }
   ],
   "source": [
    "a=np.array([[1,2,3]])\n",
    "r=np.repeat(a,3,axis=1)\n",
    "print(r)"
   ]
  },
  {
   "cell_type": "code",
   "execution_count": 108,
   "id": "bab1e538",
   "metadata": {},
   "outputs": [
    {
     "name": "stdout",
     "output_type": "stream",
     "text": [
      "[1 1 1 2 2 2 3 3 3]\n"
     ]
    }
   ],
   "source": [
    "a=np.array([[1,2,3]])\n",
    "r=np.repeat(a,3)\n",
    "print(r)"
   ]
  },
  {
   "cell_type": "code",
   "execution_count": 117,
   "id": "9111d977",
   "metadata": {},
   "outputs": [
    {
     "name": "stdout",
     "output_type": "stream",
     "text": [
      "[[1. 1. 1. 1. 1.]\n",
      " [1. 1. 1. 1. 1.]\n",
      " [1. 1. 1. 1. 1.]\n",
      " [1. 1. 1. 1. 1.]\n",
      " [1. 1. 1. 1. 1.]]\n",
      "[[0. 0. 0.]\n",
      " [0. 9. 0.]\n",
      " [0. 0. 0.]]\n"
     ]
    }
   ],
   "source": [
    "################ ********* ###############\n",
    "a=np.ones((5,5))\n",
    "b=np.zeros((3,3))\n",
    "b[1,1]=9\n",
    "print(a)\n",
    "print(b)"
   ]
  },
  {
   "cell_type": "code",
   "execution_count": 119,
   "id": "e70c5fec",
   "metadata": {},
   "outputs": [
    {
     "name": "stdout",
     "output_type": "stream",
     "text": [
      "[[1. 1. 1. 1. 1.]\n",
      " [1. 0. 0. 0. 1.]\n",
      " [1. 0. 9. 0. 1.]\n",
      " [1. 0. 0. 0. 1.]\n",
      " [1. 1. 1. 1. 1.]]\n"
     ]
    }
   ],
   "source": [
    "a[1:4,1:4]=b\n",
    "print(a)"
   ]
  },
  {
   "cell_type": "code",
   "execution_count": 121,
   "id": "a6f1f724",
   "metadata": {},
   "outputs": [
    {
     "name": "stdout",
     "output_type": "stream",
     "text": [
      "[4 5 6 7 8]\n"
     ]
    }
   ],
   "source": [
    "# Mathematics\n",
    "a=np.array([2,3,4,5,6])\n",
    "a+=2\n",
    "print(a)"
   ]
  },
  {
   "cell_type": "code",
   "execution_count": 123,
   "id": "18e1a19a",
   "metadata": {},
   "outputs": [
    {
     "name": "stdout",
     "output_type": "stream",
     "text": [
      "[0 1 2 3 4]\n"
     ]
    }
   ],
   "source": [
    "a=np.array([2,3,4,5,6])\n",
    "a-=2\n",
    "print(a)"
   ]
  },
  {
   "cell_type": "code",
   "execution_count": 125,
   "id": "1dbe3f40",
   "metadata": {},
   "outputs": [
    {
     "name": "stdout",
     "output_type": "stream",
     "text": [
      "[ 4  6  8 10 12]\n"
     ]
    }
   ],
   "source": [
    "a=np.array([2,3,4,5,6])\n",
    "a*=2\n",
    "print(a)"
   ]
  },
  {
   "cell_type": "code",
   "execution_count": 129,
   "id": "184033c5",
   "metadata": {},
   "outputs": [
    {
     "name": "stdout",
     "output_type": "stream",
     "text": [
      "[1.  1.5 2.  2.5 3. ]\n"
     ]
    }
   ],
   "source": [
    "a=np.array([2,3,4,5,6])\n",
    "a=a/2\n",
    "print(a)"
   ]
  },
  {
   "cell_type": "code",
   "execution_count": 130,
   "id": "139b5d64",
   "metadata": {},
   "outputs": [
    {
     "name": "stdout",
     "output_type": "stream",
     "text": [
      "[ 4  9 16 25 36]\n"
     ]
    }
   ],
   "source": [
    "a=np.array([2,3,4,5,6])\n",
    "a**=2\n",
    "print(a)"
   ]
  },
  {
   "cell_type": "code",
   "execution_count": 131,
   "id": "afe4b495",
   "metadata": {},
   "outputs": [
    {
     "name": "stdout",
     "output_type": "stream",
     "text": [
      "[ 0.90929743  0.14112001 -0.7568025  -0.95892427 -0.2794155 ]\n"
     ]
    }
   ],
   "source": [
    "a=np.array([2,3,4,5,6])\n",
    "a=np.sin(a)\n",
    "print(a)"
   ]
  },
  {
   "cell_type": "code",
   "execution_count": 132,
   "id": "7d34b73b",
   "metadata": {},
   "outputs": [
    {
     "data": {
      "text/plain": [
       "array([-0.41614684, -0.9899925 , -0.65364362,  0.28366219,  0.96017029])"
      ]
     },
     "execution_count": 132,
     "metadata": {},
     "output_type": "execute_result"
    }
   ],
   "source": [
    "a=np.array([2,3,4,5,6])\n",
    "np.cos(a)"
   ]
  },
  {
   "cell_type": "code",
   "execution_count": 134,
   "id": "98539213",
   "metadata": {},
   "outputs": [
    {
     "name": "stdout",
     "output_type": "stream",
     "text": [
      "[[1. 1. 1.]\n",
      " [1. 1. 1.]]\n",
      "[[3 3]\n",
      " [3 3]\n",
      " [3 3]]\n"
     ]
    }
   ],
   "source": [
    "# Linear Algebra\n",
    "a=np.ones((2,3))\n",
    "b=np.full((3,2),3)\n",
    "print(a)\n",
    "print(b)"
   ]
  },
  {
   "cell_type": "code",
   "execution_count": 137,
   "id": "7c7937e0",
   "metadata": {},
   "outputs": [
    {
     "data": {
      "text/plain": [
       "array([[9., 9.],\n",
       "       [9., 9.]])"
      ]
     },
     "execution_count": 137,
     "metadata": {},
     "output_type": "execute_result"
    }
   ],
   "source": [
    "# for multipication of two matrix\n",
    "np.matmul(a,b)          # matmul is matri multiplication"
   ]
  },
  {
   "cell_type": "code",
   "execution_count": 140,
   "id": "cccb3279",
   "metadata": {},
   "outputs": [
    {
     "data": {
      "text/plain": [
       "1.0"
      ]
     },
     "execution_count": 140,
     "metadata": {},
     "output_type": "execute_result"
    }
   ],
   "source": [
    "# Finding Determinant\n",
    "c=np.identity(4)\n",
    "np.linalg.det(c)       # for finding the determinant"
   ]
  },
  {
   "cell_type": "code",
   "execution_count": 142,
   "id": "10280428",
   "metadata": {},
   "outputs": [
    {
     "name": "stdout",
     "output_type": "stream",
     "text": [
      "[[1 2 3 4]\n",
      " [5 6 7 8]]\n"
     ]
    }
   ],
   "source": [
    "# Statistics\n",
    "stats=np.array([[1,2,3,4],[5,6,7,8]])\n",
    "print(stats)"
   ]
  },
  {
   "cell_type": "code",
   "execution_count": 143,
   "id": "dd35a329",
   "metadata": {},
   "outputs": [
    {
     "data": {
      "text/plain": [
       "1"
      ]
     },
     "execution_count": 143,
     "metadata": {},
     "output_type": "execute_result"
    }
   ],
   "source": [
    "np.min(stats)"
   ]
  },
  {
   "cell_type": "code",
   "execution_count": 145,
   "id": "9aac98b4",
   "metadata": {},
   "outputs": [
    {
     "data": {
      "text/plain": [
       "array([1, 2, 3, 4])"
      ]
     },
     "execution_count": 145,
     "metadata": {},
     "output_type": "execute_result"
    }
   ],
   "source": [
    "np.min(stats,axis=0)   # axis=0 for row"
   ]
  },
  {
   "cell_type": "code",
   "execution_count": 146,
   "id": "8bc06af8",
   "metadata": {},
   "outputs": [
    {
     "data": {
      "text/plain": [
       "array([1, 5])"
      ]
     },
     "execution_count": 146,
     "metadata": {},
     "output_type": "execute_result"
    }
   ],
   "source": [
    "np.min(stats,axis=1)    # axis=1 for column"
   ]
  },
  {
   "cell_type": "code",
   "execution_count": 147,
   "id": "0e88f2df",
   "metadata": {},
   "outputs": [
    {
     "data": {
      "text/plain": [
       "8"
      ]
     },
     "execution_count": 147,
     "metadata": {},
     "output_type": "execute_result"
    }
   ],
   "source": [
    "np.max(stats)"
   ]
  },
  {
   "cell_type": "code",
   "execution_count": 148,
   "id": "29312d9d",
   "metadata": {},
   "outputs": [
    {
     "data": {
      "text/plain": [
       "array([5, 6, 7, 8])"
      ]
     },
     "execution_count": 148,
     "metadata": {},
     "output_type": "execute_result"
    }
   ],
   "source": [
    "np.max(stats,axis=0)"
   ]
  },
  {
   "cell_type": "code",
   "execution_count": 149,
   "id": "330768a0",
   "metadata": {},
   "outputs": [
    {
     "data": {
      "text/plain": [
       "array([4, 8])"
      ]
     },
     "execution_count": 149,
     "metadata": {},
     "output_type": "execute_result"
    }
   ],
   "source": [
    "np.max(stats,axis=1)"
   ]
  },
  {
   "cell_type": "code",
   "execution_count": 150,
   "id": "98907c3e",
   "metadata": {},
   "outputs": [
    {
     "data": {
      "text/plain": [
       "36"
      ]
     },
     "execution_count": 150,
     "metadata": {},
     "output_type": "execute_result"
    }
   ],
   "source": [
    "np.sum(stats)"
   ]
  },
  {
   "cell_type": "code",
   "execution_count": 151,
   "id": "c2d39ae4",
   "metadata": {},
   "outputs": [
    {
     "data": {
      "text/plain": [
       "array([10, 26])"
      ]
     },
     "execution_count": 151,
     "metadata": {},
     "output_type": "execute_result"
    }
   ],
   "source": [
    "np.sum(stats,axis=1)"
   ]
  },
  {
   "cell_type": "code",
   "execution_count": 152,
   "id": "9ece91e0",
   "metadata": {},
   "outputs": [
    {
     "data": {
      "text/plain": [
       "array([ 6,  8, 10, 12])"
      ]
     },
     "execution_count": 152,
     "metadata": {},
     "output_type": "execute_result"
    }
   ],
   "source": [
    "np.sum(stats,axis=0)"
   ]
  },
  {
   "cell_type": "code",
   "execution_count": 153,
   "id": "e5b14f0a",
   "metadata": {},
   "outputs": [
    {
     "name": "stdout",
     "output_type": "stream",
     "text": [
      "[[1 2 3 4]\n",
      " [5 6 7 8]]\n"
     ]
    }
   ],
   "source": [
    "# Vertical stacking vectors\n",
    "v1=np.array([1,2,3,4])\n",
    "v2=np.array([5,6,7,8])              # stack or vstack are same and used for vertical stacking\n",
    "V=np.vstack([v1,v2])\n",
    "print(V)"
   ]
  },
  {
   "cell_type": "code",
   "execution_count": 154,
   "id": "fdd615c7",
   "metadata": {},
   "outputs": [
    {
     "name": "stdout",
     "output_type": "stream",
     "text": [
      "[[1 2 3 4]\n",
      " [5 6 7 8]\n",
      " [5 6 7 8]]\n"
     ]
    }
   ],
   "source": [
    "V=np.vstack([v1,v2,v2])\n",
    "print(V)"
   ]
  },
  {
   "cell_type": "code",
   "execution_count": 157,
   "id": "d781bd1b",
   "metadata": {},
   "outputs": [
    {
     "name": "stdout",
     "output_type": "stream",
     "text": [
      "[[1 2 3 4]\n",
      " [1 2 3 4]\n",
      " [1 2 3 4]\n",
      " [5 6 7 8]\n",
      " [5 6 7 8]]\n"
     ]
    }
   ],
   "source": [
    "V=np.vstack([v1,v1,v1,v2,v2])\n",
    "print(V)"
   ]
  },
  {
   "cell_type": "code",
   "execution_count": 158,
   "id": "874412fc",
   "metadata": {},
   "outputs": [
    {
     "name": "stdout",
     "output_type": "stream",
     "text": [
      "[1 2 3 4 5 6 7 8]\n"
     ]
    }
   ],
   "source": [
    "# Horizontal stacking vectors\n",
    "h1=np.array([1,2,3,4])\n",
    "h2=np.array([5,6,7,8])\n",
    "H=np.hstack([h1,h2])\n",
    "print(H)"
   ]
  },
  {
   "cell_type": "code",
   "execution_count": 59,
   "id": "566f4ff2",
   "metadata": {},
   "outputs": [
    {
     "data": {
      "text/plain": [
       "array([[-3., 10.],\n",
       "       [ 7.,  1.]])"
      ]
     },
     "execution_count": 59,
     "metadata": {},
     "output_type": "execute_result"
    }
   ],
   "source": [
    "import numpy as np\n",
    "a=np.array([[1,2],[4,5]])\n",
    "b=np.array([[11,12],[23,45]])\n",
    "x=np.linalg.inv(a).dot(b)\n",
    "x"
   ]
  },
  {
   "cell_type": "code",
   "execution_count": 60,
   "id": "c3ab595b",
   "metadata": {},
   "outputs": [
    {
     "data": {
      "text/plain": [
       "array([[1, 4],\n",
       "       [2, 5]])"
      ]
     },
     "execution_count": 60,
     "metadata": {},
     "output_type": "execute_result"
    }
   ],
   "source": [
    "a.T"
   ]
  },
  {
   "cell_type": "code",
   "execution_count": 90,
   "id": "23ce056c",
   "metadata": {},
   "outputs": [
    {
     "data": {
      "text/plain": [
       "array([[0, 2, 0, 7],\n",
       "       [2, 3, 5, 5],\n",
       "       [1, 3, 5, 6],\n",
       "       [2, 0, 7, 4]])"
      ]
     },
     "execution_count": 90,
     "metadata": {},
     "output_type": "execute_result"
    }
   ],
   "source": [
    "np.random.randint(9, size=(4, 4))"
   ]
  },
  {
   "cell_type": "code",
   "execution_count": 97,
   "id": "74f2a564",
   "metadata": {},
   "outputs": [
    {
     "data": {
      "text/html": [
       "<div>\n",
       "<style scoped>\n",
       "    .dataframe tbody tr th:only-of-type {\n",
       "        vertical-align: middle;\n",
       "    }\n",
       "\n",
       "    .dataframe tbody tr th {\n",
       "        vertical-align: top;\n",
       "    }\n",
       "\n",
       "    .dataframe thead th {\n",
       "        text-align: right;\n",
       "    }\n",
       "</style>\n",
       "<table border=\"1\" class=\"dataframe\">\n",
       "  <thead>\n",
       "    <tr style=\"text-align: right;\">\n",
       "      <th></th>\n",
       "      <th>rollno.</th>\n",
       "      <th>firstname</th>\n",
       "      <th>lastname</th>\n",
       "      <th>salary</th>\n",
       "      <th>Age</th>\n",
       "    </tr>\n",
       "  </thead>\n",
       "  <tbody>\n",
       "    <tr>\n",
       "      <th>0</th>\n",
       "      <td>8</td>\n",
       "      <td>ankit</td>\n",
       "      <td>kumar</td>\n",
       "      <td>63711</td>\n",
       "      <td>12</td>\n",
       "    </tr>\n",
       "    <tr>\n",
       "      <th>1</th>\n",
       "      <td>3</td>\n",
       "      <td>amit</td>\n",
       "      <td>chadda</td>\n",
       "      <td>44738</td>\n",
       "      <td>13</td>\n",
       "    </tr>\n",
       "    <tr>\n",
       "      <th>2</th>\n",
       "      <td>2</td>\n",
       "      <td>juli</td>\n",
       "      <td>verma</td>\n",
       "      <td>22269</td>\n",
       "      <td>12</td>\n",
       "    </tr>\n",
       "    <tr>\n",
       "      <th>3</th>\n",
       "      <td>7</td>\n",
       "      <td>mummy</td>\n",
       "      <td>kumar</td>\n",
       "      <td>64149</td>\n",
       "      <td>15</td>\n",
       "    </tr>\n",
       "    <tr>\n",
       "      <th>4</th>\n",
       "      <td>10</td>\n",
       "      <td>papa</td>\n",
       "      <td>kumar</td>\n",
       "      <td>57826</td>\n",
       "      <td>14</td>\n",
       "    </tr>\n",
       "    <tr>\n",
       "      <th>5</th>\n",
       "      <td>6</td>\n",
       "      <td>ankush</td>\n",
       "      <td>kumar</td>\n",
       "      <td>79000</td>\n",
       "      <td>13</td>\n",
       "    </tr>\n",
       "    <tr>\n",
       "      <th>6</th>\n",
       "      <td>4</td>\n",
       "      <td>amit</td>\n",
       "      <td>sinha</td>\n",
       "      <td>31950</td>\n",
       "      <td>12</td>\n",
       "    </tr>\n",
       "    <tr>\n",
       "      <th>7</th>\n",
       "      <td>1</td>\n",
       "      <td>anki</td>\n",
       "      <td>sharma</td>\n",
       "      <td>21715</td>\n",
       "      <td>12</td>\n",
       "    </tr>\n",
       "    <tr>\n",
       "      <th>8</th>\n",
       "      <td>9</td>\n",
       "      <td>khavar</td>\n",
       "      <td>sinha</td>\n",
       "      <td>45658</td>\n",
       "      <td>15</td>\n",
       "    </tr>\n",
       "    <tr>\n",
       "      <th>9</th>\n",
       "      <td>5</td>\n",
       "      <td>goli</td>\n",
       "      <td>sinha</td>\n",
       "      <td>57246</td>\n",
       "      <td>11</td>\n",
       "    </tr>\n",
       "  </tbody>\n",
       "</table>\n",
       "</div>"
      ],
      "text/plain": [
       "   rollno. firstname lastname  salary  Age\n",
       "0        8     ankit    kumar   63711   12\n",
       "1        3      amit   chadda   44738   13\n",
       "2        2      juli    verma   22269   12\n",
       "3        7     mummy    kumar   64149   15\n",
       "4       10      papa    kumar   57826   14\n",
       "5        6    ankush    kumar   79000   13\n",
       "6        4      amit    sinha   31950   12\n",
       "7        1      anki   sharma   21715   12\n",
       "8        9    khavar    sinha   45658   15\n",
       "9        5      goli    sinha   57246   11"
      ]
     },
     "execution_count": 97,
     "metadata": {},
     "output_type": "execute_result"
    }
   ],
   "source": [
    "import pandas as pd\n",
    "pd.set_option('display.max_rows', 10)\n",
    "pd.set_option('display.max_columns', 10)\n",
    "a=pd.read_excel(\"C:\\\\Users\\\\ANKIT\\\\Desktop\\\\Excel_DATA.xlsx\",sheet_name=\"Data\",skiprows=1)\n",
    "a"
   ]
  },
  {
   "cell_type": "code",
   "execution_count": null,
   "id": "b9a5a2e8",
   "metadata": {},
   "outputs": [],
   "source": []
  },
  {
   "cell_type": "code",
   "execution_count": null,
   "id": "0d8e6073",
   "metadata": {},
   "outputs": [],
   "source": []
  },
  {
   "cell_type": "code",
   "execution_count": null,
   "id": "673e0dfc",
   "metadata": {},
   "outputs": [],
   "source": []
  },
  {
   "cell_type": "code",
   "execution_count": null,
   "id": "ca459495",
   "metadata": {},
   "outputs": [],
   "source": []
  },
  {
   "cell_type": "code",
   "execution_count": null,
   "id": "3481d192",
   "metadata": {},
   "outputs": [],
   "source": []
  }
 ],
 "metadata": {
  "kernelspec": {
   "display_name": "Python 3",
   "language": "python",
   "name": "python3"
  },
  "language_info": {
   "codemirror_mode": {
    "name": "ipython",
    "version": 3
   },
   "file_extension": ".py",
   "mimetype": "text/x-python",
   "name": "python",
   "nbconvert_exporter": "python",
   "pygments_lexer": "ipython3",
   "version": "3.8.8"
  }
 },
 "nbformat": 4,
 "nbformat_minor": 5
}
